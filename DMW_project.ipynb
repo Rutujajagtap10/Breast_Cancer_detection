{
  "nbformat": 4,
  "nbformat_minor": 0,
  "metadata": {
    "colab": {
      "name": "DMW project.ipynb",
      "provenance": [],
      "collapsed_sections": [],
      "authorship_tag": "ABX9TyMpdI/zM1CvON3XD8CElTMb",
      "include_colab_link": true
    },
    "kernelspec": {
      "name": "python3",
      "display_name": "Python 3"
    },
    "language_info": {
      "name": "python"
    }
  },
  "cells": [
    {
      "cell_type": "markdown",
      "metadata": {
        "id": "view-in-github",
        "colab_type": "text"
      },
      "source": [
        "<a href=\"https://colab.research.google.com/github/Rutujajagtap10/Breast_Cancer_detection/blob/main/DMW_project.ipynb\" target=\"_parent\"><img src=\"https://colab.research.google.com/assets/colab-badge.svg\" alt=\"Open In Colab\"/></a>"
      ]
    },
    {
      "cell_type": "markdown",
      "source": [
        "**Load Dependencies**"
      ],
      "metadata": {
        "id": "QzFgoQScZMce"
      }
    },
    {
      "cell_type": "code",
      "source": [
        "import pandas as pd\n",
        "import numpy as np\n",
        "\n",
        "from sklearn.datasets import load_breast_cancer\n",
        "from sklearn.preprocessing import StandardScaler\n",
        "\n",
        "from keras.models import Sequential\n",
        "from keras.layers import Dense\n",
        "\n",
        "from sklearn.naive_bayes import GaussianNB\n",
        "from sklearn.metrics import confusion_matrix\n",
        "from sklearn.model_selection import cross_val_score\n",
        "from sklearn.metrics import classification_report \n",
        "from sklearn.metrics import accuracy_score"
      ],
      "metadata": {
        "id": "mRY8EninZciZ"
      },
      "execution_count": null,
      "outputs": []
    },
    {
      "cell_type": "markdown",
      "source": [
        "**Load dataset**"
      ],
      "metadata": {
        "id": "_xKuZEIRZnav"
      }
    },
    {
      "cell_type": "code",
      "source": [
        "data = load_breast_cancer()"
      ],
      "metadata": {
        "id": "VrjWouKJZsfy"
      },
      "execution_count": null,
      "outputs": []
    },
    {
      "cell_type": "code",
      "source": [
        "data.keys()"
      ],
      "metadata": {
        "colab": {
          "base_uri": "https://localhost:8080/"
        },
        "id": "RF-ASAVWaJ_e",
        "outputId": "29484994-d2da-4adb-e802-d1ef8278920e"
      },
      "execution_count": null,
      "outputs": [
        {
          "output_type": "execute_result",
          "data": {
            "text/plain": [
              "dict_keys(['data', 'target', 'frame', 'target_names', 'DESCR', 'feature_names', 'filename', 'data_module'])"
            ]
          },
          "metadata": {},
          "execution_count": 3
        }
      ]
    },
    {
      "cell_type": "code",
      "source": [
        "data['data'].shape"
      ],
      "metadata": {
        "colab": {
          "base_uri": "https://localhost:8080/"
        },
        "id": "noj-erL2aNs9",
        "outputId": "c91e604c-55c0-4748-9520-9fd60f40c979"
      },
      "execution_count": null,
      "outputs": [
        {
          "output_type": "execute_result",
          "data": {
            "text/plain": [
              "(569, 30)"
            ]
          },
          "metadata": {},
          "execution_count": 4
        }
      ]
    },
    {
      "cell_type": "code",
      "source": [
        "data['feature_names']"
      ],
      "metadata": {
        "colab": {
          "base_uri": "https://localhost:8080/"
        },
        "id": "9wz18NNhaZQF",
        "outputId": "37cc80c2-1aba-4159-a24c-0de09f3e781f"
      },
      "execution_count": null,
      "outputs": [
        {
          "output_type": "execute_result",
          "data": {
            "text/plain": [
              "array(['mean radius', 'mean texture', 'mean perimeter', 'mean area',\n",
              "       'mean smoothness', 'mean compactness', 'mean concavity',\n",
              "       'mean concave points', 'mean symmetry', 'mean fractal dimension',\n",
              "       'radius error', 'texture error', 'perimeter error', 'area error',\n",
              "       'smoothness error', 'compactness error', 'concavity error',\n",
              "       'concave points error', 'symmetry error',\n",
              "       'fractal dimension error', 'worst radius', 'worst texture',\n",
              "       'worst perimeter', 'worst area', 'worst smoothness',\n",
              "       'worst compactness', 'worst concavity', 'worst concave points',\n",
              "       'worst symmetry', 'worst fractal dimension'], dtype='<U23')"
            ]
          },
          "metadata": {},
          "execution_count": 5
        }
      ]
    },
    {
      "cell_type": "code",
      "source": [
        "feature = data['data']"
      ],
      "metadata": {
        "id": "5iNw_kGFadCY"
      },
      "execution_count": null,
      "outputs": []
    },
    {
      "cell_type": "code",
      "source": [
        "label = data['target']"
      ],
      "metadata": {
        "id": "5ToVyFr0anfw"
      },
      "execution_count": null,
      "outputs": []
    },
    {
      "cell_type": "code",
      "source": [
        "data['target_names']"
      ],
      "metadata": {
        "colab": {
          "base_uri": "https://localhost:8080/"
        },
        "id": "cMtO9WouatyW",
        "outputId": "72d4abf0-3681-4081-9968-2c48078100a1"
      },
      "execution_count": null,
      "outputs": [
        {
          "output_type": "execute_result",
          "data": {
            "text/plain": [
              "array(['malignant', 'benign'], dtype='<U9')"
            ]
          },
          "metadata": {},
          "execution_count": 8
        }
      ]
    },
    {
      "cell_type": "code",
      "source": [
        "feature.shape"
      ],
      "metadata": {
        "colab": {
          "base_uri": "https://localhost:8080/"
        },
        "id": "YZwzaTZ_a7_8",
        "outputId": "a7448941-e194-46d4-f494-1bcd5ffce336"
      },
      "execution_count": null,
      "outputs": [
        {
          "output_type": "execute_result",
          "data": {
            "text/plain": [
              "(569, 30)"
            ]
          },
          "metadata": {},
          "execution_count": 9
        }
      ]
    },
    {
      "cell_type": "code",
      "source": [
        "label.shape"
      ],
      "metadata": {
        "colab": {
          "base_uri": "https://localhost:8080/"
        },
        "id": "A5ypYojma__o",
        "outputId": "200b2417-392e-437a-b5df-84aaaf4b2a56"
      },
      "execution_count": null,
      "outputs": [
        {
          "output_type": "execute_result",
          "data": {
            "text/plain": [
              "(569,)"
            ]
          },
          "metadata": {},
          "execution_count": 10
        }
      ]
    },
    {
      "cell_type": "code",
      "source": [
        "df_frt = pd.DataFrame(feature , columns = data['feature_names'])\n",
        "df_lbl = pd.DataFrame(label , columns = ['label'])\n",
        "df = pd.concat([df_frt, df_lbl], axis=1)\n",
        "df = df.sample(frac = 1)\n",
        "\n",
        "feature = df.values[ : , : 30]\n",
        "label = df.values[ : ,30: ]"
      ],
      "metadata": {
        "id": "CbkXZ7tTbL93"
      },
      "execution_count": null,
      "outputs": []
    },
    {
      "cell_type": "code",
      "source": [
        "df"
      ],
      "metadata": {
        "colab": {
          "base_uri": "https://localhost:8080/",
          "height": 522
        },
        "id": "V6fnegETbRX8",
        "outputId": "f54a331c-fae7-4092-c6ee-fecab573c74a"
      },
      "execution_count": null,
      "outputs": [
        {
          "output_type": "execute_result",
          "data": {
            "text/html": [
              "\n",
              "  <div id=\"df-d037dd33-7665-4838-887f-69d23aab93cf\">\n",
              "    <div class=\"colab-df-container\">\n",
              "      <div>\n",
              "<style scoped>\n",
              "    .dataframe tbody tr th:only-of-type {\n",
              "        vertical-align: middle;\n",
              "    }\n",
              "\n",
              "    .dataframe tbody tr th {\n",
              "        vertical-align: top;\n",
              "    }\n",
              "\n",
              "    .dataframe thead th {\n",
              "        text-align: right;\n",
              "    }\n",
              "</style>\n",
              "<table border=\"1\" class=\"dataframe\">\n",
              "  <thead>\n",
              "    <tr style=\"text-align: right;\">\n",
              "      <th></th>\n",
              "      <th>mean radius</th>\n",
              "      <th>mean texture</th>\n",
              "      <th>mean perimeter</th>\n",
              "      <th>mean area</th>\n",
              "      <th>mean smoothness</th>\n",
              "      <th>mean compactness</th>\n",
              "      <th>mean concavity</th>\n",
              "      <th>mean concave points</th>\n",
              "      <th>mean symmetry</th>\n",
              "      <th>mean fractal dimension</th>\n",
              "      <th>radius error</th>\n",
              "      <th>texture error</th>\n",
              "      <th>perimeter error</th>\n",
              "      <th>area error</th>\n",
              "      <th>smoothness error</th>\n",
              "      <th>compactness error</th>\n",
              "      <th>concavity error</th>\n",
              "      <th>concave points error</th>\n",
              "      <th>symmetry error</th>\n",
              "      <th>fractal dimension error</th>\n",
              "      <th>worst radius</th>\n",
              "      <th>worst texture</th>\n",
              "      <th>worst perimeter</th>\n",
              "      <th>worst area</th>\n",
              "      <th>worst smoothness</th>\n",
              "      <th>worst compactness</th>\n",
              "      <th>worst concavity</th>\n",
              "      <th>worst concave points</th>\n",
              "      <th>worst symmetry</th>\n",
              "      <th>worst fractal dimension</th>\n",
              "      <th>label</th>\n",
              "    </tr>\n",
              "  </thead>\n",
              "  <tbody>\n",
              "    <tr>\n",
              "      <th>290</th>\n",
              "      <td>14.410</td>\n",
              "      <td>19.73</td>\n",
              "      <td>96.03</td>\n",
              "      <td>651.0</td>\n",
              "      <td>0.08757</td>\n",
              "      <td>0.16760</td>\n",
              "      <td>0.13620</td>\n",
              "      <td>0.066020</td>\n",
              "      <td>0.1714</td>\n",
              "      <td>0.07192</td>\n",
              "      <td>0.8811</td>\n",
              "      <td>1.7700</td>\n",
              "      <td>4.360</td>\n",
              "      <td>77.11</td>\n",
              "      <td>0.007762</td>\n",
              "      <td>0.10640</td>\n",
              "      <td>0.09960</td>\n",
              "      <td>0.027710</td>\n",
              "      <td>0.04077</td>\n",
              "      <td>0.022860</td>\n",
              "      <td>15.77</td>\n",
              "      <td>22.13</td>\n",
              "      <td>101.70</td>\n",
              "      <td>767.3</td>\n",
              "      <td>0.09983</td>\n",
              "      <td>0.24720</td>\n",
              "      <td>0.22200</td>\n",
              "      <td>0.10210</td>\n",
              "      <td>0.2272</td>\n",
              "      <td>0.08799</td>\n",
              "      <td>1</td>\n",
              "    </tr>\n",
              "    <tr>\n",
              "      <th>34</th>\n",
              "      <td>16.130</td>\n",
              "      <td>17.88</td>\n",
              "      <td>107.00</td>\n",
              "      <td>807.2</td>\n",
              "      <td>0.10400</td>\n",
              "      <td>0.15590</td>\n",
              "      <td>0.13540</td>\n",
              "      <td>0.077520</td>\n",
              "      <td>0.1998</td>\n",
              "      <td>0.06515</td>\n",
              "      <td>0.3340</td>\n",
              "      <td>0.6857</td>\n",
              "      <td>2.183</td>\n",
              "      <td>35.03</td>\n",
              "      <td>0.004185</td>\n",
              "      <td>0.02868</td>\n",
              "      <td>0.02664</td>\n",
              "      <td>0.009067</td>\n",
              "      <td>0.01703</td>\n",
              "      <td>0.003817</td>\n",
              "      <td>20.21</td>\n",
              "      <td>27.26</td>\n",
              "      <td>132.70</td>\n",
              "      <td>1261.0</td>\n",
              "      <td>0.14460</td>\n",
              "      <td>0.58040</td>\n",
              "      <td>0.52740</td>\n",
              "      <td>0.18640</td>\n",
              "      <td>0.4270</td>\n",
              "      <td>0.12330</td>\n",
              "      <td>0</td>\n",
              "    </tr>\n",
              "    <tr>\n",
              "      <th>160</th>\n",
              "      <td>11.750</td>\n",
              "      <td>20.18</td>\n",
              "      <td>76.10</td>\n",
              "      <td>419.8</td>\n",
              "      <td>0.10890</td>\n",
              "      <td>0.11410</td>\n",
              "      <td>0.06843</td>\n",
              "      <td>0.037380</td>\n",
              "      <td>0.1993</td>\n",
              "      <td>0.06453</td>\n",
              "      <td>0.5018</td>\n",
              "      <td>1.6930</td>\n",
              "      <td>3.926</td>\n",
              "      <td>38.34</td>\n",
              "      <td>0.009433</td>\n",
              "      <td>0.02405</td>\n",
              "      <td>0.04167</td>\n",
              "      <td>0.011520</td>\n",
              "      <td>0.03397</td>\n",
              "      <td>0.005061</td>\n",
              "      <td>13.32</td>\n",
              "      <td>26.21</td>\n",
              "      <td>88.91</td>\n",
              "      <td>543.9</td>\n",
              "      <td>0.13580</td>\n",
              "      <td>0.18920</td>\n",
              "      <td>0.19560</td>\n",
              "      <td>0.07909</td>\n",
              "      <td>0.3168</td>\n",
              "      <td>0.07987</td>\n",
              "      <td>1</td>\n",
              "    </tr>\n",
              "    <tr>\n",
              "      <th>177</th>\n",
              "      <td>16.460</td>\n",
              "      <td>20.11</td>\n",
              "      <td>109.30</td>\n",
              "      <td>832.9</td>\n",
              "      <td>0.09831</td>\n",
              "      <td>0.15560</td>\n",
              "      <td>0.17930</td>\n",
              "      <td>0.088660</td>\n",
              "      <td>0.1794</td>\n",
              "      <td>0.06323</td>\n",
              "      <td>0.3037</td>\n",
              "      <td>1.2840</td>\n",
              "      <td>2.482</td>\n",
              "      <td>31.59</td>\n",
              "      <td>0.006627</td>\n",
              "      <td>0.04094</td>\n",
              "      <td>0.05371</td>\n",
              "      <td>0.018130</td>\n",
              "      <td>0.01682</td>\n",
              "      <td>0.004584</td>\n",
              "      <td>17.79</td>\n",
              "      <td>28.45</td>\n",
              "      <td>123.50</td>\n",
              "      <td>981.2</td>\n",
              "      <td>0.14150</td>\n",
              "      <td>0.46670</td>\n",
              "      <td>0.58620</td>\n",
              "      <td>0.20350</td>\n",
              "      <td>0.3054</td>\n",
              "      <td>0.09519</td>\n",
              "      <td>0</td>\n",
              "    </tr>\n",
              "    <tr>\n",
              "      <th>548</th>\n",
              "      <td>9.683</td>\n",
              "      <td>19.34</td>\n",
              "      <td>61.05</td>\n",
              "      <td>285.7</td>\n",
              "      <td>0.08491</td>\n",
              "      <td>0.05030</td>\n",
              "      <td>0.02337</td>\n",
              "      <td>0.009615</td>\n",
              "      <td>0.1580</td>\n",
              "      <td>0.06235</td>\n",
              "      <td>0.2957</td>\n",
              "      <td>1.3630</td>\n",
              "      <td>2.054</td>\n",
              "      <td>18.24</td>\n",
              "      <td>0.007440</td>\n",
              "      <td>0.01123</td>\n",
              "      <td>0.02337</td>\n",
              "      <td>0.009615</td>\n",
              "      <td>0.02203</td>\n",
              "      <td>0.004154</td>\n",
              "      <td>10.93</td>\n",
              "      <td>25.59</td>\n",
              "      <td>69.10</td>\n",
              "      <td>364.2</td>\n",
              "      <td>0.11990</td>\n",
              "      <td>0.09546</td>\n",
              "      <td>0.09350</td>\n",
              "      <td>0.03846</td>\n",
              "      <td>0.2552</td>\n",
              "      <td>0.07920</td>\n",
              "      <td>1</td>\n",
              "    </tr>\n",
              "    <tr>\n",
              "      <th>...</th>\n",
              "      <td>...</td>\n",
              "      <td>...</td>\n",
              "      <td>...</td>\n",
              "      <td>...</td>\n",
              "      <td>...</td>\n",
              "      <td>...</td>\n",
              "      <td>...</td>\n",
              "      <td>...</td>\n",
              "      <td>...</td>\n",
              "      <td>...</td>\n",
              "      <td>...</td>\n",
              "      <td>...</td>\n",
              "      <td>...</td>\n",
              "      <td>...</td>\n",
              "      <td>...</td>\n",
              "      <td>...</td>\n",
              "      <td>...</td>\n",
              "      <td>...</td>\n",
              "      <td>...</td>\n",
              "      <td>...</td>\n",
              "      <td>...</td>\n",
              "      <td>...</td>\n",
              "      <td>...</td>\n",
              "      <td>...</td>\n",
              "      <td>...</td>\n",
              "      <td>...</td>\n",
              "      <td>...</td>\n",
              "      <td>...</td>\n",
              "      <td>...</td>\n",
              "      <td>...</td>\n",
              "      <td>...</td>\n",
              "    </tr>\n",
              "    <tr>\n",
              "      <th>310</th>\n",
              "      <td>11.700</td>\n",
              "      <td>19.11</td>\n",
              "      <td>74.33</td>\n",
              "      <td>418.7</td>\n",
              "      <td>0.08814</td>\n",
              "      <td>0.05253</td>\n",
              "      <td>0.01583</td>\n",
              "      <td>0.011480</td>\n",
              "      <td>0.1936</td>\n",
              "      <td>0.06128</td>\n",
              "      <td>0.1601</td>\n",
              "      <td>1.4300</td>\n",
              "      <td>1.109</td>\n",
              "      <td>11.28</td>\n",
              "      <td>0.006064</td>\n",
              "      <td>0.00911</td>\n",
              "      <td>0.01042</td>\n",
              "      <td>0.007638</td>\n",
              "      <td>0.02349</td>\n",
              "      <td>0.001661</td>\n",
              "      <td>12.61</td>\n",
              "      <td>26.55</td>\n",
              "      <td>80.92</td>\n",
              "      <td>483.1</td>\n",
              "      <td>0.12230</td>\n",
              "      <td>0.10870</td>\n",
              "      <td>0.07915</td>\n",
              "      <td>0.05741</td>\n",
              "      <td>0.3487</td>\n",
              "      <td>0.06958</td>\n",
              "      <td>1</td>\n",
              "    </tr>\n",
              "    <tr>\n",
              "      <th>440</th>\n",
              "      <td>10.970</td>\n",
              "      <td>17.20</td>\n",
              "      <td>71.73</td>\n",
              "      <td>371.5</td>\n",
              "      <td>0.08915</td>\n",
              "      <td>0.11130</td>\n",
              "      <td>0.09457</td>\n",
              "      <td>0.036130</td>\n",
              "      <td>0.1489</td>\n",
              "      <td>0.06640</td>\n",
              "      <td>0.2574</td>\n",
              "      <td>1.3760</td>\n",
              "      <td>2.806</td>\n",
              "      <td>18.15</td>\n",
              "      <td>0.008565</td>\n",
              "      <td>0.04638</td>\n",
              "      <td>0.06430</td>\n",
              "      <td>0.017680</td>\n",
              "      <td>0.01516</td>\n",
              "      <td>0.004976</td>\n",
              "      <td>12.36</td>\n",
              "      <td>26.87</td>\n",
              "      <td>90.14</td>\n",
              "      <td>476.4</td>\n",
              "      <td>0.13910</td>\n",
              "      <td>0.40820</td>\n",
              "      <td>0.47790</td>\n",
              "      <td>0.15550</td>\n",
              "      <td>0.2540</td>\n",
              "      <td>0.09532</td>\n",
              "      <td>1</td>\n",
              "    </tr>\n",
              "    <tr>\n",
              "      <th>123</th>\n",
              "      <td>14.500</td>\n",
              "      <td>10.89</td>\n",
              "      <td>94.28</td>\n",
              "      <td>640.7</td>\n",
              "      <td>0.11010</td>\n",
              "      <td>0.10990</td>\n",
              "      <td>0.08842</td>\n",
              "      <td>0.057780</td>\n",
              "      <td>0.1856</td>\n",
              "      <td>0.06402</td>\n",
              "      <td>0.2929</td>\n",
              "      <td>0.8570</td>\n",
              "      <td>1.928</td>\n",
              "      <td>24.19</td>\n",
              "      <td>0.003818</td>\n",
              "      <td>0.01276</td>\n",
              "      <td>0.02882</td>\n",
              "      <td>0.012000</td>\n",
              "      <td>0.01910</td>\n",
              "      <td>0.002808</td>\n",
              "      <td>15.70</td>\n",
              "      <td>15.98</td>\n",
              "      <td>102.80</td>\n",
              "      <td>745.5</td>\n",
              "      <td>0.13130</td>\n",
              "      <td>0.17880</td>\n",
              "      <td>0.25600</td>\n",
              "      <td>0.12210</td>\n",
              "      <td>0.2889</td>\n",
              "      <td>0.08006</td>\n",
              "      <td>1</td>\n",
              "    </tr>\n",
              "    <tr>\n",
              "      <th>99</th>\n",
              "      <td>14.420</td>\n",
              "      <td>19.77</td>\n",
              "      <td>94.48</td>\n",
              "      <td>642.5</td>\n",
              "      <td>0.09752</td>\n",
              "      <td>0.11410</td>\n",
              "      <td>0.09388</td>\n",
              "      <td>0.058390</td>\n",
              "      <td>0.1879</td>\n",
              "      <td>0.06390</td>\n",
              "      <td>0.2895</td>\n",
              "      <td>1.8510</td>\n",
              "      <td>2.376</td>\n",
              "      <td>26.85</td>\n",
              "      <td>0.008005</td>\n",
              "      <td>0.02895</td>\n",
              "      <td>0.03321</td>\n",
              "      <td>0.014240</td>\n",
              "      <td>0.01462</td>\n",
              "      <td>0.004452</td>\n",
              "      <td>16.33</td>\n",
              "      <td>30.86</td>\n",
              "      <td>109.50</td>\n",
              "      <td>826.4</td>\n",
              "      <td>0.14310</td>\n",
              "      <td>0.30260</td>\n",
              "      <td>0.31940</td>\n",
              "      <td>0.15650</td>\n",
              "      <td>0.2718</td>\n",
              "      <td>0.09353</td>\n",
              "      <td>0</td>\n",
              "    </tr>\n",
              "    <tr>\n",
              "      <th>517</th>\n",
              "      <td>19.890</td>\n",
              "      <td>20.26</td>\n",
              "      <td>130.50</td>\n",
              "      <td>1214.0</td>\n",
              "      <td>0.10370</td>\n",
              "      <td>0.13100</td>\n",
              "      <td>0.14110</td>\n",
              "      <td>0.094310</td>\n",
              "      <td>0.1802</td>\n",
              "      <td>0.06188</td>\n",
              "      <td>0.5079</td>\n",
              "      <td>0.8737</td>\n",
              "      <td>3.654</td>\n",
              "      <td>59.70</td>\n",
              "      <td>0.005089</td>\n",
              "      <td>0.02303</td>\n",
              "      <td>0.03052</td>\n",
              "      <td>0.011780</td>\n",
              "      <td>0.01057</td>\n",
              "      <td>0.003391</td>\n",
              "      <td>23.73</td>\n",
              "      <td>25.23</td>\n",
              "      <td>160.50</td>\n",
              "      <td>1646.0</td>\n",
              "      <td>0.14170</td>\n",
              "      <td>0.33090</td>\n",
              "      <td>0.41850</td>\n",
              "      <td>0.16130</td>\n",
              "      <td>0.2549</td>\n",
              "      <td>0.09136</td>\n",
              "      <td>0</td>\n",
              "    </tr>\n",
              "  </tbody>\n",
              "</table>\n",
              "<p>569 rows × 31 columns</p>\n",
              "</div>\n",
              "      <button class=\"colab-df-convert\" onclick=\"convertToInteractive('df-d037dd33-7665-4838-887f-69d23aab93cf')\"\n",
              "              title=\"Convert this dataframe to an interactive table.\"\n",
              "              style=\"display:none;\">\n",
              "        \n",
              "  <svg xmlns=\"http://www.w3.org/2000/svg\" height=\"24px\"viewBox=\"0 0 24 24\"\n",
              "       width=\"24px\">\n",
              "    <path d=\"M0 0h24v24H0V0z\" fill=\"none\"/>\n",
              "    <path d=\"M18.56 5.44l.94 2.06.94-2.06 2.06-.94-2.06-.94-.94-2.06-.94 2.06-2.06.94zm-11 1L8.5 8.5l.94-2.06 2.06-.94-2.06-.94L8.5 2.5l-.94 2.06-2.06.94zm10 10l.94 2.06.94-2.06 2.06-.94-2.06-.94-.94-2.06-.94 2.06-2.06.94z\"/><path d=\"M17.41 7.96l-1.37-1.37c-.4-.4-.92-.59-1.43-.59-.52 0-1.04.2-1.43.59L10.3 9.45l-7.72 7.72c-.78.78-.78 2.05 0 2.83L4 21.41c.39.39.9.59 1.41.59.51 0 1.02-.2 1.41-.59l7.78-7.78 2.81-2.81c.8-.78.8-2.07 0-2.86zM5.41 20L4 18.59l7.72-7.72 1.47 1.35L5.41 20z\"/>\n",
              "  </svg>\n",
              "      </button>\n",
              "      \n",
              "  <style>\n",
              "    .colab-df-container {\n",
              "      display:flex;\n",
              "      flex-wrap:wrap;\n",
              "      gap: 12px;\n",
              "    }\n",
              "\n",
              "    .colab-df-convert {\n",
              "      background-color: #E8F0FE;\n",
              "      border: none;\n",
              "      border-radius: 50%;\n",
              "      cursor: pointer;\n",
              "      display: none;\n",
              "      fill: #1967D2;\n",
              "      height: 32px;\n",
              "      padding: 0 0 0 0;\n",
              "      width: 32px;\n",
              "    }\n",
              "\n",
              "    .colab-df-convert:hover {\n",
              "      background-color: #E2EBFA;\n",
              "      box-shadow: 0px 1px 2px rgba(60, 64, 67, 0.3), 0px 1px 3px 1px rgba(60, 64, 67, 0.15);\n",
              "      fill: #174EA6;\n",
              "    }\n",
              "\n",
              "    [theme=dark] .colab-df-convert {\n",
              "      background-color: #3B4455;\n",
              "      fill: #D2E3FC;\n",
              "    }\n",
              "\n",
              "    [theme=dark] .colab-df-convert:hover {\n",
              "      background-color: #434B5C;\n",
              "      box-shadow: 0px 1px 3px 1px rgba(0, 0, 0, 0.15);\n",
              "      filter: drop-shadow(0px 1px 2px rgba(0, 0, 0, 0.3));\n",
              "      fill: #FFFFFF;\n",
              "    }\n",
              "  </style>\n",
              "\n",
              "      <script>\n",
              "        const buttonEl =\n",
              "          document.querySelector('#df-d037dd33-7665-4838-887f-69d23aab93cf button.colab-df-convert');\n",
              "        buttonEl.style.display =\n",
              "          google.colab.kernel.accessAllowed ? 'block' : 'none';\n",
              "\n",
              "        async function convertToInteractive(key) {\n",
              "          const element = document.querySelector('#df-d037dd33-7665-4838-887f-69d23aab93cf');\n",
              "          const dataTable =\n",
              "            await google.colab.kernel.invokeFunction('convertToInteractive',\n",
              "                                                     [key], {});\n",
              "          if (!dataTable) return;\n",
              "\n",
              "          const docLinkHtml = 'Like what you see? Visit the ' +\n",
              "            '<a target=\"_blank\" href=https://colab.research.google.com/notebooks/data_table.ipynb>data table notebook</a>'\n",
              "            + ' to learn more about interactive tables.';\n",
              "          element.innerHTML = '';\n",
              "          dataTable['output_type'] = 'display_data';\n",
              "          await google.colab.output.renderOutput(dataTable, element);\n",
              "          const docLink = document.createElement('div');\n",
              "          docLink.innerHTML = docLinkHtml;\n",
              "          element.appendChild(docLink);\n",
              "        }\n",
              "      </script>\n",
              "    </div>\n",
              "  </div>\n",
              "  "
            ],
            "text/plain": [
              "     mean radius  mean texture  ...  worst fractal dimension  label\n",
              "290       14.410         19.73  ...                  0.08799      1\n",
              "34        16.130         17.88  ...                  0.12330      0\n",
              "160       11.750         20.18  ...                  0.07987      1\n",
              "177       16.460         20.11  ...                  0.09519      0\n",
              "548        9.683         19.34  ...                  0.07920      1\n",
              "..           ...           ...  ...                      ...    ...\n",
              "310       11.700         19.11  ...                  0.06958      1\n",
              "440       10.970         17.20  ...                  0.09532      1\n",
              "123       14.500         10.89  ...                  0.08006      1\n",
              "99        14.420         19.77  ...                  0.09353      0\n",
              "517       19.890         20.26  ...                  0.09136      0\n",
              "\n",
              "[569 rows x 31 columns]"
            ]
          },
          "metadata": {},
          "execution_count": 12
        }
      ]
    },
    {
      "cell_type": "markdown",
      "source": [
        "**Train,Test and Validation**"
      ],
      "metadata": {
        "id": "j6jpTvglbtb5"
      }
    },
    {
      "cell_type": "code",
      "source": [
        "#500 Training\n",
        "X_train = feature[:500]\n",
        "y_train = label[:500]\n",
        "\n",
        "#35 Validation\n",
        "X_val = feature[500:535]\n",
        "y_val = label[500:535]\n",
        "\n",
        "#34 Testing\n",
        "X_test = feature[535:]\n",
        "y_test = label[535:]"
      ],
      "metadata": {
        "id": "bMQNTdqJb6px"
      },
      "execution_count": null,
      "outputs": []
    },
    {
      "cell_type": "code",
      "source": [
        "model = Sequential()\n",
        "\n",
        "model.add(Dense(32, activation = 'relu', input_dim = 30))\n",
        "model.add(Dense(64, activation = 'relu'))\n",
        "model.add(Dense(128, activation = 'relu'))\n",
        "model.add(Dense(64, activation = 'relu'))\n",
        "model.add(Dense(32, activation = 'relu'))\n",
        "model.add(Dense(1, activation = 'sigmoid'))\n",
        "\n",
        "model.compile( loss = 'binary_crossentropy' , optimizer = 'adam' , metrics = ['accuracy'])"
      ],
      "metadata": {
        "id": "vwpR1kJtcGmF"
      },
      "execution_count": null,
      "outputs": []
    },
    {
      "cell_type": "code",
      "source": [
        "model.fit( X_train , y_train, epochs = 10, batch_size = 5, validation_data = (X_val, y_val))\n"
      ],
      "metadata": {
        "colab": {
          "base_uri": "https://localhost:8080/"
        },
        "id": "uyuRGmKXcIsi",
        "outputId": "17f14610-4015-43b0-de53-cf8229ee4a6d"
      },
      "execution_count": null,
      "outputs": [
        {
          "output_type": "stream",
          "name": "stdout",
          "text": [
            "Epoch 1/10\n",
            "100/100 [==============================] - 1s 4ms/step - loss: 2.4042 - accuracy: 0.7160 - val_loss: 0.1717 - val_accuracy: 0.9429\n",
            "Epoch 2/10\n",
            "100/100 [==============================] - 0s 3ms/step - loss: 0.6410 - accuracy: 0.8180 - val_loss: 0.2103 - val_accuracy: 0.9143\n",
            "Epoch 3/10\n",
            "100/100 [==============================] - 0s 4ms/step - loss: 0.6694 - accuracy: 0.8300 - val_loss: 0.5881 - val_accuracy: 0.7143\n",
            "Epoch 4/10\n",
            "100/100 [==============================] - 0s 4ms/step - loss: 0.3218 - accuracy: 0.8900 - val_loss: 0.1557 - val_accuracy: 0.9714\n",
            "Epoch 5/10\n",
            "100/100 [==============================] - 0s 5ms/step - loss: 0.3425 - accuracy: 0.8860 - val_loss: 0.4186 - val_accuracy: 0.8286\n",
            "Epoch 6/10\n",
            "100/100 [==============================] - 1s 6ms/step - loss: 0.2923 - accuracy: 0.9020 - val_loss: 0.1835 - val_accuracy: 0.9429\n",
            "Epoch 7/10\n",
            "100/100 [==============================] - 1s 6ms/step - loss: 0.4585 - accuracy: 0.8720 - val_loss: 0.5092 - val_accuracy: 0.8286\n",
            "Epoch 8/10\n",
            "100/100 [==============================] - 1s 6ms/step - loss: 0.3703 - accuracy: 0.8980 - val_loss: 0.2100 - val_accuracy: 0.9143\n",
            "Epoch 9/10\n",
            "100/100 [==============================] - 0s 3ms/step - loss: 0.2126 - accuracy: 0.9240 - val_loss: 0.1940 - val_accuracy: 0.9429\n",
            "Epoch 10/10\n",
            "100/100 [==============================] - 0s 2ms/step - loss: 0.2750 - accuracy: 0.9080 - val_loss: 0.2154 - val_accuracy: 0.9429\n"
          ]
        },
        {
          "output_type": "execute_result",
          "data": {
            "text/plain": [
              "<keras.callbacks.History at 0x7fd807567d10>"
            ]
          },
          "metadata": {},
          "execution_count": 15
        }
      ]
    },
    {
      "cell_type": "code",
      "source": [
        "model.evaluate(X_test , y_test)"
      ],
      "metadata": {
        "colab": {
          "base_uri": "https://localhost:8080/"
        },
        "id": "HbntdcTMcUM6",
        "outputId": "e90e7dba-a3b3-4876-b3ee-a5cb17ae36fe"
      },
      "execution_count": null,
      "outputs": [
        {
          "output_type": "stream",
          "name": "stdout",
          "text": [
            "2/2 [==============================] - 0s 8ms/step - loss: 0.2257 - accuracy: 0.9118\n"
          ]
        },
        {
          "output_type": "execute_result",
          "data": {
            "text/plain": [
              "[0.22566115856170654, 0.9117646813392639]"
            ]
          },
          "metadata": {},
          "execution_count": 16
        }
      ]
    },
    {
      "cell_type": "code",
      "source": [
        "model.evaluate(X_val , y_val)"
      ],
      "metadata": {
        "colab": {
          "base_uri": "https://localhost:8080/"
        },
        "id": "ZXfE_7CtccTq",
        "outputId": "7f497869-8164-42dc-b3c2-e1fd3cf70d35"
      },
      "execution_count": null,
      "outputs": [
        {
          "output_type": "stream",
          "name": "stdout",
          "text": [
            "2/2 [==============================] - 0s 6ms/step - loss: 0.2154 - accuracy: 0.9429\n"
          ]
        },
        {
          "output_type": "execute_result",
          "data": {
            "text/plain": [
              "[0.21536032855510712, 0.9428571462631226]"
            ]
          },
          "metadata": {},
          "execution_count": 17
        }
      ]
    },
    {
      "cell_type": "code",
      "source": [
        "for i in range(30):\n",
        "  sample = X_test[i]\n",
        "  sample = np.reshape(sample, (1,30))\n",
        "\n",
        "  if (model.predict(sample)[0][0] > 0.5):\n",
        "    print(\"-Benign\")\n",
        "  else:\n",
        "    print(\"-Malignant\")\n",
        "\n",
        "  if (y_test[i] == 1):\n",
        "    print(\"*Banign\")\n",
        "  else:\n",
        "    print(\"*Melignant\")\n",
        "  print(\"-----------\")"
      ],
      "metadata": {
        "colab": {
          "base_uri": "https://localhost:8080/"
        },
        "id": "v1wZ7jP4cd71",
        "outputId": "eda063b8-727c-4ff8-e8ac-347041015cd8"
      },
      "execution_count": null,
      "outputs": [
        {
          "output_type": "stream",
          "name": "stdout",
          "text": [
            "-Benign\n",
            "*Banign\n",
            "-----------\n",
            "-Benign\n",
            "*Banign\n",
            "-----------\n",
            "-Benign\n",
            "*Banign\n",
            "-----------\n",
            "-Benign\n",
            "*Banign\n",
            "-----------\n",
            "-Benign\n",
            "*Banign\n",
            "-----------\n",
            "-Benign\n",
            "*Melignant\n",
            "-----------\n",
            "-Benign\n",
            "*Banign\n",
            "-----------\n",
            "-Benign\n",
            "*Banign\n",
            "-----------\n",
            "-Benign\n",
            "*Banign\n",
            "-----------\n",
            "-Benign\n",
            "*Banign\n",
            "-----------\n",
            "-Malignant\n",
            "*Melignant\n",
            "-----------\n",
            "-Benign\n",
            "*Banign\n",
            "-----------\n",
            "-Benign\n",
            "*Banign\n",
            "-----------\n",
            "-Malignant\n",
            "*Melignant\n",
            "-----------\n",
            "-Benign\n",
            "*Banign\n",
            "-----------\n",
            "-Benign\n",
            "*Banign\n",
            "-----------\n",
            "-Malignant\n",
            "*Melignant\n",
            "-----------\n",
            "-Benign\n",
            "*Banign\n",
            "-----------\n",
            "-Benign\n",
            "*Banign\n",
            "-----------\n",
            "-Benign\n",
            "*Banign\n",
            "-----------\n",
            "-Malignant\n",
            "*Melignant\n",
            "-----------\n",
            "-Benign\n",
            "*Banign\n",
            "-----------\n",
            "-Malignant\n",
            "*Melignant\n",
            "-----------\n",
            "-Benign\n",
            "*Melignant\n",
            "-----------\n",
            "-Malignant\n",
            "*Melignant\n",
            "-----------\n",
            "-Benign\n",
            "*Banign\n",
            "-----------\n",
            "-Benign\n",
            "*Banign\n",
            "-----------\n",
            "-Benign\n",
            "*Banign\n",
            "-----------\n",
            "-Benign\n",
            "*Banign\n",
            "-----------\n",
            "-Benign\n",
            "*Banign\n",
            "-----------\n"
          ]
        }
      ]
    },
    {
      "cell_type": "markdown",
      "source": [
        "**Confusion Matrix**"
      ],
      "metadata": {
        "id": "sKHQVZlUdL8y"
      }
    },
    {
      "cell_type": "code",
      "source": [
        "#from sklearn import metrics\n",
        "import itertools\n",
        "from sklearn import metrics\n",
        "import itertools\n",
        "import matplotlib.pyplot as plt\n",
        "\n",
        "def plot_confusion_matrix(cm, classes,\n",
        "                          normalize=False,\n",
        "                          title='Confusion matrix',\n",
        "                          cmap=plt.cm.Blues):\n",
        "    \n",
        "    plt.imshow(cm, interpolation='nearest', cmap=cmap)\n",
        "    plt.title(title)\n",
        "    plt.colorbar()\n",
        "    tick_marks = np.arange(len(classes))\n",
        "    plt.xticks(tick_marks, classes, rotation=45)\n",
        "    plt.yticks(tick_marks, classes)\n",
        "\n",
        "    if normalize:\n",
        "        cm = cm.astype('float') / cm.sum(axis=1)[:, np.newaxis]\n",
        "        print(\"Normalized confusion matrix\")\n",
        "    else:\n",
        "        print('Confusion matrix, without normalization')\n",
        "\n",
        "    thresh = cm.max() / 2.\n",
        "    for i, j in itertools.product(range(cm.shape[0]), range(cm.shape[1])):\n",
        "        plt.text(j, i, cm[i, j],\n",
        "                 horizontalalignment=\"center\",\n",
        "                 color=\"white\" if cm[i, j] > thresh else \"black\")\n",
        "\n",
        "    plt.tight_layout()\n",
        "    plt.ylabel('True_label')\n",
        "    plt.xlabel('Predicated_label')"
      ],
      "metadata": {
        "id": "bg5Wm6ZcdWED"
      },
      "execution_count": null,
      "outputs": []
    },
    {
      "cell_type": "code",
      "source": [
        ""
      ],
      "metadata": {
        "id": "rLPteXz5lQwA"
      },
      "execution_count": null,
      "outputs": []
    },
    {
      "cell_type": "markdown",
      "source": [
        "**1.  Neural Network**"
      ],
      "metadata": {
        "id": "BMQA-YM1eXGq"
      }
    },
    {
      "cell_type": "code",
      "source": [
        "from sklearn.neural_network import MLPClassifier\n",
        "\n",
        "neuralnNet = MLPClassifier(solver='lbfgs', hidden_layer_sizes=(15,10,5),max_iter=2000)\n",
        "neuralnNet.fit(X_train, y_train)\n",
        "predictions = neuralnNet.predict(X_test)\n",
        "\n",
        "print('\\nNeural Network Accuracy:', str(accuracy_score(y_test, predictions) * 100) + '%')\n",
        "print(confusion_matrix(y_test, predictions))"
      ],
      "metadata": {
        "colab": {
          "base_uri": "https://localhost:8080/"
        },
        "id": "FFfvTrTTedZq",
        "outputId": "e67ff9f1-4a3e-4641-bcb3-80c2310e719a"
      },
      "execution_count": null,
      "outputs": [
        {
          "output_type": "stream",
          "name": "stderr",
          "text": [
            "/usr/local/lib/python3.7/dist-packages/sklearn/neural_network/_multilayer_perceptron.py:1109: DataConversionWarning: A column-vector y was passed when a 1d array was expected. Please change the shape of y to (n_samples, ), for example using ravel().\n",
            "  y = column_or_1d(y, warn=True)\n"
          ]
        },
        {
          "output_type": "stream",
          "name": "stdout",
          "text": [
            "\n",
            "Neural Network Accuracy: 91.17647058823529%\n",
            "[[ 7  3]\n",
            " [ 0 24]]\n"
          ]
        }
      ]
    },
    {
      "cell_type": "code",
      "source": [
        "#.....Confusion Matrix for Neural Network\n",
        "cm = metrics.confusion_matrix(y_test,predictions )\n",
        "plot_confusion_matrix(cm, classes=['Positive', 'Negative'])"
      ],
      "metadata": {
        "colab": {
          "base_uri": "https://localhost:8080/",
          "height": 330
        },
        "id": "SCaT2u2eeyMI",
        "outputId": "62848f84-acc3-4c29-fda6-c2e58177f879"
      },
      "execution_count": null,
      "outputs": [
        {
          "output_type": "stream",
          "name": "stdout",
          "text": [
            "Confusion matrix, without normalization\n"
          ]
        },
        {
          "output_type": "display_data",
          "data": {
            "image/png": "[encoded data removed]",
            "text/plain": [
              "<Figure size 432x288 with 2 Axes>"
            ]
          },
          "metadata": {
            "needs_background": "light"
          }
        }
      ]
    },
    {
      "cell_type": "markdown",
      "source": [
        "**2.   Logistic Regression**"
      ],
      "metadata": {
        "id": "k7oVAweqfJEC"
      }
    },
    {
      "cell_type": "code",
      "source": [
        "from sklearn.linear_model import LogisticRegression\n",
        "lr = LogisticRegression(solver='lbfgs', max_iter=1000)\n",
        "lr.fit(X_train, y_train)\n",
        "predictions = lr.predict(X_test)\n",
        "\n",
        "print('\\nLogistic Regression Accuracy:', str(accuracy_score(y_test, predictions) * 100) + '%')\n",
        "print(confusion_matrix(y_test, predictions))"
      ],
      "metadata": {
        "colab": {
          "base_uri": "https://localhost:8080/"
        },
        "id": "YuNfoNtefPog",
        "outputId": "28183335-9c99-4336-a4b7-db785c7c01e2"
      },
      "execution_count": null,
      "outputs": [
        {
          "output_type": "stream",
          "name": "stderr",
          "text": [
            "/usr/local/lib/python3.7/dist-packages/sklearn/utils/validation.py:985: DataConversionWarning: A column-vector y was passed when a 1d array was expected. Please change the shape of y to (n_samples, ), for example using ravel().\n",
            "  y = column_or_1d(y, warn=True)\n"
          ]
        },
        {
          "output_type": "stream",
          "name": "stdout",
          "text": [
            "\n",
            "Logistic Regression Accuracy: 97.05882352941177%\n",
            "[[ 9  1]\n",
            " [ 0 24]]\n"
          ]
        },
        {
          "output_type": "stream",
          "name": "stderr",
          "text": [
            "/usr/local/lib/python3.7/dist-packages/sklearn/linear_model/_logistic.py:818: ConvergenceWarning: lbfgs failed to converge (status=1):\n",
            "STOP: TOTAL NO. of ITERATIONS REACHED LIMIT.\n",
            "\n",
            "Increase the number of iterations (max_iter) or scale the data as shown in:\n",
            "    https://scikit-learn.org/stable/modules/preprocessing.html\n",
            "Please also refer to the documentation for alternative solver options:\n",
            "    https://scikit-learn.org/stable/modules/linear_model.html#logistic-regression\n",
            "  extra_warning_msg=_LOGISTIC_SOLVER_CONVERGENCE_MSG,\n"
          ]
        }
      ]
    },
    {
      "cell_type": "code",
      "source": [
        "#.....Confusion Matrix for logistic Regression\n",
        "cm = metrics.confusion_matrix(y_test,predictions )\n",
        "plot_confusion_matrix(cm, classes=['Positive', 'Negative'])"
      ],
      "metadata": {
        "colab": {
          "base_uri": "https://localhost:8080/",
          "height": 330
        },
        "id": "XCotWvAPfjEX",
        "outputId": "d6486bd1-a901-4c68-f705-8ed2678c3233"
      },
      "execution_count": null,
      "outputs": [
        {
          "output_type": "stream",
          "name": "stdout",
          "text": [
            "Confusion matrix, without normalization\n"
          ]
        },
        {
          "output_type": "display_data",
          "data": {
            "image/png": "[encoded data removed]",
            "text/plain": [
              "<Figure size 432x288 with 2 Axes>"
            ]
          },
          "metadata": {
            "needs_background": "light"
          }
        }
      ]
    },
    {
      "cell_type": "markdown",
      "source": [
        "**3.   Naive Bayes**"
      ],
      "metadata": {
        "id": "5eO93g59gJ46"
      }
    },
    {
      "cell_type": "code",
      "source": [
        "print('\\nAccuracy:', str(accuracy_score(y_test, predictions) * 100) + '%')\n",
        "print(confusion_matrix(y_test, predictions))\n",
        "print(classification_report(y_test, predictions))"
      ],
      "metadata": {
        "colab": {
          "base_uri": "https://localhost:8080/"
        },
        "id": "j4t3ozfegPPw",
        "outputId": "cbfea8a7-6aac-41ab-a875-b7ed64d65ab2"
      },
      "execution_count": null,
      "outputs": [
        {
          "output_type": "stream",
          "name": "stdout",
          "text": [
            "\n",
            "Accuracy: 97.05882352941177%\n",
            "[[ 9  1]\n",
            " [ 0 24]]\n",
            "              precision    recall  f1-score   support\n",
            "\n",
            "         0.0       1.00      0.90      0.95        10\n",
            "         1.0       0.96      1.00      0.98        24\n",
            "\n",
            "    accuracy                           0.97        34\n",
            "   macro avg       0.98      0.95      0.96        34\n",
            "weighted avg       0.97      0.97      0.97        34\n",
            "\n"
          ]
        }
      ]
    },
    {
      "cell_type": "code",
      "source": [
        "#.....Confusion Matrix for naive Bayes\n",
        "cm = metrics.confusion_matrix(y_test,predictions )\n",
        "plot_confusion_matrix(cm, classes=['Positive', 'Negative'])"
      ],
      "metadata": {
        "colab": {
          "base_uri": "https://localhost:8080/",
          "height": 330
        },
        "id": "x3ulJaythbOY",
        "outputId": "af3977d2-af63-4154-dfb2-78b450ce76e8"
      },
      "execution_count": null,
      "outputs": [
        {
          "output_type": "stream",
          "name": "stdout",
          "text": [
            "Confusion matrix, without normalization\n"
          ]
        },
        {
          "output_type": "display_data",
          "data": {
            "image/png": "[encoded data removed]",
            "text/plain": [
              "<Figure size 432x288 with 2 Axes>"
            ]
          },
          "metadata": {
            "needs_background": "light"
          }
        }
      ]
    },
    {
      "cell_type": "markdown",
      "source": [
        "**Comparison of algorithms**"
      ],
      "metadata": {
        "id": "fPUSu9ZGh5bR"
      }
    },
    {
      "cell_type": "code",
      "source": [
        "import matplotlib.pyplot as plt\n",
        "\n",
        "# line 1 points\n",
        "x1 = [0.20,0.30,0.40]\n",
        "y1 = [66.9,97.20,96.70]\n",
        "# plotting the line 1 points\n",
        "plt.plot(x1, y1, label = \"Simple neural network\")\n",
        "\n",
        "# line 2 points\n",
        "x2 = [0.20,0.30,0.40]\n",
        "y2 = [84.6,98.28,99.76]\n",
        "# plotting the line 2 points\n",
        "plt.plot(x2, y2, label = \"Naive Byes\")\n",
        "\n",
        "# line 3 points\n",
        "x3 = [0.20,0.30,0.40]\n",
        "y3= [75.32,97.6,96.8]\n",
        "# plotting the line 2 points\n",
        "plt.plot(x3, y3, label = \"logistic_Regression\")\n",
        "\n",
        "# naming the x axis\n",
        "plt.xlabel('x - axis')\n",
        "# naming the y axis\n",
        "plt.ylabel('y - axis')\n",
        "# giving a title to my graph\n",
        "plt.title('Comparison of accuracy Vs test/train ratio of various classification methods')\n",
        "\n",
        "# show a legend on the plot\n",
        "plt.legend()\n",
        "\n",
        "# function to show the plot\n",
        "plt.grid()\n",
        "plt.show()"
      ],
      "metadata": {
        "colab": {
          "base_uri": "https://localhost:8080/",
          "height": 295
        },
        "id": "_6f-TL5ch4e0",
        "outputId": "ce2aa032-9a44-4df4-8e09-b3144d7e1d1f"
      },
      "execution_count": null,
      "outputs": [
        {
          "output_type": "display_data",
          "data": {
            "image/png": "[encoded data removed]",
            "text/plain": [
              "<Figure size 432x288 with 1 Axes>"
            ]
          },
          "metadata": {
            "needs_background": "light"
          }
        }
      ]
    }
  ]
}