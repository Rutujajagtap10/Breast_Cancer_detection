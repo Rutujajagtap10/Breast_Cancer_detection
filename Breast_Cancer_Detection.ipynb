{
  "nbformat": 4,
  "nbformat_minor": 0,
  "metadata": {
    "colab": {
      "name": "Breast_Cancer_Detection.ipynb",
      "provenance": [],
      "authorship_tag": "ABX9TyOWqOrvZ14Sqnb+eHfvnU45",
      "include_colab_link": true
    },
    "kernelspec": {
      "name": "python3",
      "display_name": "Python 3"
    },
    "language_info": {
      "name": "python"
    }
  },
  "cells": [
    {
      "cell_type": "markdown",
      "metadata": {
        "id": "view-in-github",
        "colab_type": "text"
      },
      "source": [
        "<a href=\"https://colab.research.google.com/github/Rutujajagtap10/Breast_Cancer_detection/blob/main/Breast_Cancer_Detection.ipynb\" target=\"_parent\"><img src=\"https://colab.research.google.com/assets/colab-badge.svg\" alt=\"Open In Colab\"/></a>"
      ]
    },
    {
      "cell_type": "markdown",
      "metadata": {
        "id": "X_PKLgqQEcf5"
      },
      "source": [
        "**Breast Cancer Detection Description :-**\n",
        "             1. Title: Wisconsin Diagnostic Breast Cancer (WDBC)\n",
        "\n",
        "             2. Source Information\n",
        "\n",
        "a) Creators: \n",
        "\n",
        "\tDr. William H. Wolberg, General Surgery Dept., University of\n",
        "\tWisconsin,  Clinical Sciences Center, Madison, WI 53792\n",
        "\twolberg@eagle.surgery.wisc.edu\n",
        "\n",
        "\tW. Nick Street, Computer Sciences Dept., University of\n",
        "\tWisconsin, 1210 West Dayton St., Madison, WI 53706\n",
        "\tstreet@cs.wisc.edu  608-262-6619\n",
        "\n",
        "\tOlvi L. Mangasarian, Computer Sciences Dept., University of\n",
        "\tWisconsin, 1210 West Dayton St., Madison, WI 53706\n",
        "\tolvi@cs.wisc.edu \n",
        "\n",
        "b) Donor: Nick Street\n",
        "\n",
        "c) Date: November 1995\n",
        "\n",
        "3. Past Usage:\n",
        "\n",
        "first usage:\n",
        "\n",
        "\tW.N. Street, W.H. Wolberg and O.L. Mangasarian \n",
        "\tNuclear feature extraction for breast tumor diagnosis.\n",
        "\tIS&T/SPIE 1993 International Symposium on Electronic Imaging: Science\n",
        "\tand Technology, volume 1905, pages 861-870, San Jose, CA, 1993.\n",
        "\n",
        "OR literature:\n",
        "\n",
        "\tO.L. Mangasarian, W.N. Street and W.H. Wolberg. \n",
        "\tBreast cancer diagnosis and prognosis via linear programming. \n",
        "\tOperations Research, 43(4), pages 570-577, July-August 1995.\n",
        "\n",
        "Medical literature:\n",
        "\n",
        "\tW.H. Wolberg, W.N. Street, and O.L. Mangasarian. \n",
        "\tMachine learning techniques to diagnose breast cancer from\n",
        "\tfine-needle aspirates.  \n",
        "\tCancer Letters 77 (1994) 163-171.\n",
        "\n",
        "\tW.H. Wolberg, W.N. Street, and O.L. Mangasarian. \n",
        "\tImage analysis and machine learning applied to breast cancer\n",
        "\tdiagnosis and prognosis.  \n",
        "\tAnalytical and Quantitative Cytology and Histology, Vol. 17\n",
        "\tNo. 2, pages 77-87, April 1995. \n",
        "\n",
        "\tW.H. Wolberg, W.N. Street, D.M. Heisey, and O.L. Mangasarian. \n",
        "\tComputerized breast cancer diagnosis and prognosis from fine\n",
        "\tneedle aspirates.  \n",
        "\tArchives of Surgery 1995;130:511-516.\n",
        "\n",
        "\tW.H. Wolberg, W.N. Street, D.M. Heisey, and O.L. Mangasarian. \n",
        "\tComputer-derived nuclear features distinguish malignant from\n",
        "\tbenign breast cytology.  \n",
        "\tHuman Pathology, 26:792--796, 1995.\n",
        "\n",
        "See also:\n",
        "\thttp://www.cs.wisc.edu/~olvi/uwmp/mpml.html\n",
        "\thttp://www.cs.wisc.edu/~olvi/uwmp/cancer.html\n",
        "\n",
        "Results:\n",
        "\n",
        "\t- predicting field 2, diagnosis: B = benign, M = malignant\n",
        "\t- sets are linearly separable using all 30 input features\n",
        "\t- best predictive accuracy obtained using one separating plane\n",
        "\t\tin the 3-D space of Worst Area, Worst Smoothness and\n",
        "\t\tMean Texture.  Estimated accuracy 97.5% using repeated\n",
        "\t\t10-fold crossvalidations.  Classifier has correctly\n",
        "\t\tdiagnosed 176 consecutive new patients as of November\n",
        "\t\t1995. \n",
        "\n",
        "4. Relevant information\n",
        "\n",
        "\tFeatures are computed from a digitized image of a fine needle\n",
        "\taspirate (FNA) of a breast mass.  They describe\n",
        "\tcharacteristics of the cell nuclei present in the image.\n",
        "\tA few of the images can be found at\n",
        "\thttp://www.cs.wisc.edu/~street/images/\n",
        "\n",
        "\tSeparating plane described above was obtained using\n",
        "\tMultisurface Method-Tree (MSM-T) [K. P. Bennett, \"Decision Tree\n",
        "\tConstruction Via Linear Programming.\" Proceedings of the 4th\n",
        "\tMidwest Artificial Intelligence and Cognitive Science Society,\n",
        "\tpp. 97-101, 1992], a classification method which uses linear\n",
        "\tprogramming to construct a decision tree.  Relevant features\n",
        "\twere selected using an exhaustive search in the space of 1-4\n",
        "\tfeatures and 1-3 separating planes.\n",
        "\n",
        "\tThe actual linear program used to obtain the separating plane\n",
        "\tin the 3-dimensional space is that described in:\n",
        "\t[K. P. Bennett and O. L. Mangasarian: \"Robust Linear\n",
        "\tProgramming Discrimination of Two Linearly Inseparable Sets\",\n",
        "\tOptimization Methods and Software 1, 1992, 23-34].\n",
        "\n",
        "\n",
        "\tThis database is also available through the UW CS ftp server:\n",
        "\n",
        "\tftp ftp.cs.wisc.edu\n",
        "\tcd math-prog/cpo-dataset/machine-learn/WDBC/\n",
        "\n",
        "5. Number of instances: 569 \n",
        "\n",
        "6. Number of attributes: 32 (ID, diagnosis, 30 real-valued input features)\n",
        "\n",
        "7. Attribute information\n",
        "\n",
        "1) ID number\n",
        "2) Diagnosis (M = malignant, B = benign)\n",
        "3-32)\n",
        "\n",
        "Ten real-valued features are computed for each cell nucleus:\n",
        "\n",
        "\ta) radius (mean of distances from center to points on the perimeter)\n",
        "\tb) texture (standard deviation of gray-scale values)\n",
        "\tc) perimeter\n",
        "\td) area\n",
        "\te) smoothness (local variation in radius lengths)\n",
        "\tf) compactness (perimeter^2 / area - 1.0)\n",
        "\tg) concavity (severity of concave portions of the contour)\n",
        "\th) concave points (number of concave portions of the contour)\n",
        "\ti) symmetry \n",
        "\tj) fractal dimension (\"coastline approximation\" - 1)\n",
        "\n",
        "Several of the papers listed above contain detailed descriptions of\n",
        "how these features are computed. \n",
        "\n",
        "The mean, standard error, and \"worst\" or largest (mean of the three\n",
        "largest values) of these features were computed for each image,\n",
        "resulting in 30 features.  For instance, field 3 is Mean Radius, field\n",
        "13 is Radius SE, field 23 is Worst Radius.\n",
        "\n",
        "All feature values are recoded with four significant digits.\n",
        "\n",
        "8. Missing attribute values: none\n",
        "\n",
        "9. Class distribution: 357 benign, 212 malignant"
      ]
    },
    {
      "cell_type": "code",
      "metadata": {
        "id": "BH8tOq0nGigF"
      },
      "source": [
        "import pandas as pd\n",
        "import numpy as np\n",
        "\n",
        "from sklearn.datasets import load_breast_cancer\n",
        "from sklearn.preprocessing import StandardScaler\n",
        "\n",
        "from keras.models import Sequential\n",
        "from keras.layers import Dense"
      ],
      "execution_count": null,
      "outputs": []
    },
    {
      "cell_type": "code",
      "metadata": {
        "id": "k9bFt8AEHK51"
      },
      "source": [
        "data = load_breast_cancer()"
      ],
      "execution_count": null,
      "outputs": []
    },
    {
      "cell_type": "code",
      "metadata": {
        "colab": {
          "base_uri": "https://localhost:8080/"
        },
        "id": "48PNn1zuHho0",
        "outputId": "93856308-a4f6-477e-ef09-28c52f40f742"
      },
      "source": [
        "data.keys()"
      ],
      "execution_count": null,
      "outputs": [
        {
          "output_type": "execute_result",
          "data": {
            "text/plain": [
              "dict_keys(['data', 'target', 'target_names', 'DESCR', 'feature_names', 'filename'])"
            ]
          },
          "metadata": {},
          "execution_count": 3
        }
      ]
    },
    {
      "cell_type": "code",
      "metadata": {
        "colab": {
          "base_uri": "https://localhost:8080/"
        },
        "id": "YA65eZewHn-f",
        "outputId": "e70a2014-b1e5-4522-8a60-cd4633dee903"
      },
      "source": [
        "print(data['DESCR'])"
      ],
      "execution_count": null,
      "outputs": [
        {
          "output_type": "stream",
          "name": "stdout",
          "text": [
            ".. _breast_cancer_dataset:\n",
            "\n",
            "Breast cancer wisconsin (diagnostic) dataset\n",
            "--------------------------------------------\n",
            "\n",
            "**Data Set Characteristics:**\n",
            "\n",
            "    :Number of Instances: 569\n",
            "\n",
            "    :Number of Attributes: 30 numeric, predictive attributes and the class\n",
            "\n",
            "    :Attribute Information:\n",
            "        - radius (mean of distances from center to points on the perimeter)\n",
            "        - texture (standard deviation of gray-scale values)\n",
            "        - perimeter\n",
            "        - area\n",
            "        - smoothness (local variation in radius lengths)\n",
            "        - compactness (perimeter^2 / area - 1.0)\n",
            "        - concavity (severity of concave portions of the contour)\n",
            "        - concave points (number of concave portions of the contour)\n",
            "        - symmetry \n",
            "        - fractal dimension (\"coastline approximation\" - 1)\n",
            "\n",
            "        The mean, standard error, and \"worst\" or largest (mean of the three\n",
            "        largest values) of these features were computed for each image,\n",
            "        resulting in 30 features.  For instance, field 3 is Mean Radius, field\n",
            "        13 is Radius SE, field 23 is Worst Radius.\n",
            "\n",
            "        - class:\n",
            "                - WDBC-Malignant\n",
            "                - WDBC-Benign\n",
            "\n",
            "    :Summary Statistics:\n",
            "\n",
            "    ===================================== ====== ======\n",
            "                                           Min    Max\n",
            "    ===================================== ====== ======\n",
            "    radius (mean):                        6.981  28.11\n",
            "    texture (mean):                       9.71   39.28\n",
            "    perimeter (mean):                     43.79  188.5\n",
            "    area (mean):                          143.5  2501.0\n",
            "    smoothness (mean):                    0.053  0.163\n",
            "    compactness (mean):                   0.019  0.345\n",
            "    concavity (mean):                     0.0    0.427\n",
            "    concave points (mean):                0.0    0.201\n",
            "    symmetry (mean):                      0.106  0.304\n",
            "    fractal dimension (mean):             0.05   0.097\n",
            "    radius (standard error):              0.112  2.873\n",
            "    texture (standard error):             0.36   4.885\n",
            "    perimeter (standard error):           0.757  21.98\n",
            "    area (standard error):                6.802  542.2\n",
            "    smoothness (standard error):          0.002  0.031\n",
            "    compactness (standard error):         0.002  0.135\n",
            "    concavity (standard error):           0.0    0.396\n",
            "    concave points (standard error):      0.0    0.053\n",
            "    symmetry (standard error):            0.008  0.079\n",
            "    fractal dimension (standard error):   0.001  0.03\n",
            "    radius (worst):                       7.93   36.04\n",
            "    texture (worst):                      12.02  49.54\n",
            "    perimeter (worst):                    50.41  251.2\n",
            "    area (worst):                         185.2  4254.0\n",
            "    smoothness (worst):                   0.071  0.223\n",
            "    compactness (worst):                  0.027  1.058\n",
            "    concavity (worst):                    0.0    1.252\n",
            "    concave points (worst):               0.0    0.291\n",
            "    symmetry (worst):                     0.156  0.664\n",
            "    fractal dimension (worst):            0.055  0.208\n",
            "    ===================================== ====== ======\n",
            "\n",
            "    :Missing Attribute Values: None\n",
            "\n",
            "    :Class Distribution: 212 - Malignant, 357 - Benign\n",
            "\n",
            "    :Creator:  Dr. William H. Wolberg, W. Nick Street, Olvi L. Mangasarian\n",
            "\n",
            "    :Donor: Nick Street\n",
            "\n",
            "    :Date: November, 1995\n",
            "\n",
            "This is a copy of UCI ML Breast Cancer Wisconsin (Diagnostic) datasets.\n",
            "https://goo.gl/U2Uwz2\n",
            "\n",
            "Features are computed from a digitized image of a fine needle\n",
            "aspirate (FNA) of a breast mass.  They describe\n",
            "characteristics of the cell nuclei present in the image.\n",
            "\n",
            "Separating plane described above was obtained using\n",
            "Multisurface Method-Tree (MSM-T) [K. P. Bennett, \"Decision Tree\n",
            "Construction Via Linear Programming.\" Proceedings of the 4th\n",
            "Midwest Artificial Intelligence and Cognitive Science Society,\n",
            "pp. 97-101, 1992], a classification method which uses linear\n",
            "programming to construct a decision tree.  Relevant features\n",
            "were selected using an exhaustive search in the space of 1-4\n",
            "features and 1-3 separating planes.\n",
            "\n",
            "The actual linear program used to obtain the separating plane\n",
            "in the 3-dimensional space is that described in:\n",
            "[K. P. Bennett and O. L. Mangasarian: \"Robust Linear\n",
            "Programming Discrimination of Two Linearly Inseparable Sets\",\n",
            "Optimization Methods and Software 1, 1992, 23-34].\n",
            "\n",
            "This database is also available through the UW CS ftp server:\n",
            "\n",
            "ftp ftp.cs.wisc.edu\n",
            "cd math-prog/cpo-dataset/machine-learn/WDBC/\n",
            "\n",
            ".. topic:: References\n",
            "\n",
            "   - W.N. Street, W.H. Wolberg and O.L. Mangasarian. Nuclear feature extraction \n",
            "     for breast tumor diagnosis. IS&T/SPIE 1993 International Symposium on \n",
            "     Electronic Imaging: Science and Technology, volume 1905, pages 861-870,\n",
            "     San Jose, CA, 1993.\n",
            "   - O.L. Mangasarian, W.N. Street and W.H. Wolberg. Breast cancer diagnosis and \n",
            "     prognosis via linear programming. Operations Research, 43(4), pages 570-577, \n",
            "     July-August 1995.\n",
            "   - W.H. Wolberg, W.N. Street, and O.L. Mangasarian. Machine learning techniques\n",
            "     to diagnose breast cancer from fine-needle aspirates. Cancer Letters 77 (1994) \n",
            "     163-171.\n"
          ]
        }
      ]
    },
    {
      "cell_type": "code",
      "metadata": {
        "colab": {
          "base_uri": "https://localhost:8080/"
        },
        "id": "nB_6rauVIFDY",
        "outputId": "e5506c49-66b1-4cdf-a468-e1c84f8701ab"
      },
      "source": [
        "data['data'].shape"
      ],
      "execution_count": null,
      "outputs": [
        {
          "output_type": "execute_result",
          "data": {
            "text/plain": [
              "(569, 30)"
            ]
          },
          "metadata": {},
          "execution_count": 5
        }
      ]
    },
    {
      "cell_type": "code",
      "metadata": {
        "colab": {
          "base_uri": "https://localhost:8080/"
        },
        "id": "fjSIFnPVIKsM",
        "outputId": "0776ff3b-6b17-4bdc-9d9b-92a1faa9c718"
      },
      "source": [
        "data['feature_names']"
      ],
      "execution_count": null,
      "outputs": [
        {
          "output_type": "execute_result",
          "data": {
            "text/plain": [
              "array(['mean radius', 'mean texture', 'mean perimeter', 'mean area',\n",
              "       'mean smoothness', 'mean compactness', 'mean concavity',\n",
              "       'mean concave points', 'mean symmetry', 'mean fractal dimension',\n",
              "       'radius error', 'texture error', 'perimeter error', 'area error',\n",
              "       'smoothness error', 'compactness error', 'concavity error',\n",
              "       'concave points error', 'symmetry error',\n",
              "       'fractal dimension error', 'worst radius', 'worst texture',\n",
              "       'worst perimeter', 'worst area', 'worst smoothness',\n",
              "       'worst compactness', 'worst concavity', 'worst concave points',\n",
              "       'worst symmetry', 'worst fractal dimension'], dtype='<U23')"
            ]
          },
          "metadata": {},
          "execution_count": 6
        }
      ]
    },
    {
      "cell_type": "code",
      "metadata": {
        "colab": {
          "base_uri": "https://localhost:8080/"
        },
        "id": "3FLnRRmaIS2q",
        "outputId": "cdf1f744-11ac-47f4-e09f-95dcaf8680aa"
      },
      "source": [
        "data['data'][0]"
      ],
      "execution_count": null,
      "outputs": [
        {
          "output_type": "execute_result",
          "data": {
            "text/plain": [
              "array([1.799e+01, 1.038e+01, 1.228e+02, 1.001e+03, 1.184e-01, 2.776e-01,\n",
              "       3.001e-01, 1.471e-01, 2.419e-01, 7.871e-02, 1.095e+00, 9.053e-01,\n",
              "       8.589e+00, 1.534e+02, 6.399e-03, 4.904e-02, 5.373e-02, 1.587e-02,\n",
              "       3.003e-02, 6.193e-03, 2.538e+01, 1.733e+01, 1.846e+02, 2.019e+03,\n",
              "       1.622e-01, 6.656e-01, 7.119e-01, 2.654e-01, 4.601e-01, 1.189e-01])"
            ]
          },
          "metadata": {},
          "execution_count": 7
        }
      ]
    },
    {
      "cell_type": "code",
      "metadata": {
        "colab": {
          "base_uri": "https://localhost:8080/"
        },
        "id": "Gz_ODm9AIW4f",
        "outputId": "614eaf9f-1872-4da0-d36b-90df5964d7d1"
      },
      "source": [
        "j = 0\n",
        "for i in data['feature_names']:\n",
        "  print(i,\":\",data['data'][0][j])\n",
        "  j+=1\n"
      ],
      "execution_count": null,
      "outputs": [
        {
          "output_type": "stream",
          "name": "stdout",
          "text": [
            "mean radius : 17.99\n",
            "mean texture : 10.38\n",
            "mean perimeter : 122.8\n",
            "mean area : 1001.0\n",
            "mean smoothness : 0.1184\n",
            "mean compactness : 0.2776\n",
            "mean concavity : 0.3001\n",
            "mean concave points : 0.1471\n",
            "mean symmetry : 0.2419\n",
            "mean fractal dimension : 0.07871\n",
            "radius error : 1.095\n",
            "texture error : 0.9053\n",
            "perimeter error : 8.589\n",
            "area error : 153.4\n",
            "smoothness error : 0.006399\n",
            "compactness error : 0.04904\n",
            "concavity error : 0.05373\n",
            "concave points error : 0.01587\n",
            "symmetry error : 0.03003\n",
            "fractal dimension error : 0.006193\n",
            "worst radius : 25.38\n",
            "worst texture : 17.33\n",
            "worst perimeter : 184.6\n",
            "worst area : 2019.0\n",
            "worst smoothness : 0.1622\n",
            "worst compactness : 0.6656\n",
            "worst concavity : 0.7119\n",
            "worst concave points : 0.2654\n",
            "worst symmetry : 0.4601\n",
            "worst fractal dimension : 0.1189\n"
          ]
        }
      ]
    },
    {
      "cell_type": "code",
      "metadata": {
        "id": "vOIkBGGBIifZ"
      },
      "source": [
        "feature = data['data']"
      ],
      "execution_count": null,
      "outputs": []
    },
    {
      "cell_type": "code",
      "metadata": {
        "id": "3sekOaxvIpNU"
      },
      "source": [
        "label = data['target']"
      ],
      "execution_count": null,
      "outputs": []
    },
    {
      "cell_type": "code",
      "metadata": {
        "colab": {
          "base_uri": "https://localhost:8080/"
        },
        "id": "Us1gDHLlItZC",
        "outputId": "295450e6-9ced-4bcb-859d-83bc07007c14"
      },
      "source": [
        "data['target_names']"
      ],
      "execution_count": null,
      "outputs": [
        {
          "output_type": "execute_result",
          "data": {
            "text/plain": [
              "array(['malignant', 'benign'], dtype='<U9')"
            ]
          },
          "metadata": {},
          "execution_count": 11
        }
      ]
    },
    {
      "cell_type": "code",
      "metadata": {
        "colab": {
          "base_uri": "https://localhost:8080/"
        },
        "id": "qfa3turuI97s",
        "outputId": "4990185c-25e0-4fed-ed15-96a696f1c6f5"
      },
      "source": [
        "feature.shape"
      ],
      "execution_count": null,
      "outputs": [
        {
          "output_type": "execute_result",
          "data": {
            "text/plain": [
              "(569, 30)"
            ]
          },
          "metadata": {},
          "execution_count": 12
        }
      ]
    },
    {
      "cell_type": "code",
      "metadata": {
        "colab": {
          "base_uri": "https://localhost:8080/"
        },
        "id": "yQ7eTvxiJD-9",
        "outputId": "67273350-4b79-43a6-d2f1-cbefdea625ee"
      },
      "source": [
        "label.shape"
      ],
      "execution_count": null,
      "outputs": [
        {
          "output_type": "execute_result",
          "data": {
            "text/plain": [
              "(569,)"
            ]
          },
          "metadata": {},
          "execution_count": 13
        }
      ]
    },
    {
      "cell_type": "code",
      "metadata": {
        "id": "JwKVYO9iJI6F"
      },
      "source": [
        "scale = StandardScaler()\n",
        "\n",
        "feature = scale.fit_transform(feature)"
      ],
      "execution_count": null,
      "outputs": []
    },
    {
      "cell_type": "code",
      "metadata": {
        "colab": {
          "base_uri": "https://localhost:8080/"
        },
        "id": "fwn_bjIKJO10",
        "outputId": "fc71a8a8-93f6-4d80-be86-52092c0abcbe"
      },
      "source": [
        "j = 0\n",
        "for i in data['feature_names']:\n",
        "  print(i,\":\",feature[0][j])\n",
        "  j+=1"
      ],
      "execution_count": null,
      "outputs": [
        {
          "output_type": "stream",
          "name": "stdout",
          "text": [
            "mean radius : 1.0970639814699807\n",
            "mean texture : -2.0733350146975935\n",
            "mean perimeter : 1.2699336881399383\n",
            "mean area : 0.9843749048031144\n",
            "mean smoothness : 1.568466329243428\n",
            "mean compactness : 3.2835146709868264\n",
            "mean concavity : 2.652873983743168\n",
            "mean concave points : 2.532475216403245\n",
            "mean symmetry : 2.2175150059646405\n",
            "mean fractal dimension : 2.255746885296269\n",
            "radius error : 2.4897339267376193\n",
            "texture error : -0.5652650590684639\n",
            "perimeter error : 2.833030865855184\n",
            "area error : 2.4875775569611043\n",
            "smoothness error : -0.21400164666895383\n",
            "compactness error : 1.3168615683959484\n",
            "concavity error : 0.72402615808036\n",
            "concave points error : 0.6608199414286064\n",
            "symmetry error : 1.1487566671861758\n",
            "fractal dimension error : 0.9070830809973359\n",
            "worst radius : 1.8866896251792757\n",
            "worst texture : -1.3592934737640827\n",
            "worst perimeter : 2.3036006236225606\n",
            "worst area : 2.0012374893299207\n",
            "worst smoothness : 1.3076862710715387\n",
            "worst compactness : 2.616665023512603\n",
            "worst concavity : 2.1095263465722556\n",
            "worst concave points : 2.296076127561788\n",
            "worst symmetry : 2.750622244124955\n",
            "worst fractal dimension : 1.9370146123781782\n"
          ]
        }
      ]
    },
    {
      "cell_type": "code",
      "metadata": {
        "colab": {
          "base_uri": "https://localhost:8080/"
        },
        "id": "UCC5HdVhJUwL",
        "outputId": "d7d3457a-4f33-40e1-9bb4-695c6f5303e0"
      },
      "source": [
        "print(feature[568])\n",
        "print(data['target_names'][label[568]],label[568])"
      ],
      "execution_count": null,
      "outputs": [
        {
          "output_type": "stream",
          "name": "stdout",
          "text": [
            "[-1.80840125  1.22179204 -1.81438851 -1.34778924 -3.11208479 -1.15075248\n",
            " -1.11487284 -1.26181958 -0.8200699  -0.56103238 -0.07027874  0.3830925\n",
            " -0.15744905 -0.46615196  0.04934236 -1.16351619 -1.05750068 -1.91344745\n",
            "  0.75282996 -0.382754   -1.41089258  0.76418957 -1.43273495 -1.07581292\n",
            " -1.85901852 -1.2075525  -1.30583065 -1.74506282 -0.04813821 -0.75120669]\n",
            "benign 1\n"
          ]
        }
      ]
    },
    {
      "cell_type": "code",
      "metadata": {
        "id": "a5npsB4pJavr"
      },
      "source": [
        "df_frt = pd.DataFrame(feature , columns = data['feature_names'])\n",
        "df_lbl = pd.DataFrame(label , columns = ['label'])\n",
        "df = pd.concat([df_frt, df_lbl], axis=1)\n",
        "df = df.sample(frac = 1)\n",
        "\n",
        "feature = df.values[ : , : 30]\n",
        "label = df.values[ : ,30: ]"
      ],
      "execution_count": null,
      "outputs": []
    },
    {
      "cell_type": "code",
      "metadata": {
        "colab": {
          "base_uri": "https://localhost:8080/",
          "height": 470
        },
        "id": "u-iWU4s3JgIY",
        "outputId": "55de6146-8367-4fe4-f418-5cfd0ebcb1df"
      },
      "source": [
        "df"
      ],
      "execution_count": null,
      "outputs": [
        {
          "output_type": "execute_result",
          "data": {
            "text/html": [
              "<div>\n",
              "<style scoped>\n",
              "    .dataframe tbody tr th:only-of-type {\n",
              "        vertical-align: middle;\n",
              "    }\n",
              "\n",
              "    .dataframe tbody tr th {\n",
              "        vertical-align: top;\n",
              "    }\n",
              "\n",
              "    .dataframe thead th {\n",
              "        text-align: right;\n",
              "    }\n",
              "</style>\n",
              "<table border=\"1\" class=\"dataframe\">\n",
              "  <thead>\n",
              "    <tr style=\"text-align: right;\">\n",
              "      <th></th>\n",
              "      <th>mean radius</th>\n",
              "      <th>mean texture</th>\n",
              "      <th>mean perimeter</th>\n",
              "      <th>mean area</th>\n",
              "      <th>mean smoothness</th>\n",
              "      <th>mean compactness</th>\n",
              "      <th>mean concavity</th>\n",
              "      <th>mean concave points</th>\n",
              "      <th>mean symmetry</th>\n",
              "      <th>mean fractal dimension</th>\n",
              "      <th>radius error</th>\n",
              "      <th>texture error</th>\n",
              "      <th>perimeter error</th>\n",
              "      <th>area error</th>\n",
              "      <th>smoothness error</th>\n",
              "      <th>compactness error</th>\n",
              "      <th>concavity error</th>\n",
              "      <th>concave points error</th>\n",
              "      <th>symmetry error</th>\n",
              "      <th>fractal dimension error</th>\n",
              "      <th>worst radius</th>\n",
              "      <th>worst texture</th>\n",
              "      <th>worst perimeter</th>\n",
              "      <th>worst area</th>\n",
              "      <th>worst smoothness</th>\n",
              "      <th>worst compactness</th>\n",
              "      <th>worst concavity</th>\n",
              "      <th>worst concave points</th>\n",
              "      <th>worst symmetry</th>\n",
              "      <th>worst fractal dimension</th>\n",
              "      <th>label</th>\n",
              "    </tr>\n",
              "  </thead>\n",
              "  <tbody>\n",
              "    <tr>\n",
              "      <th>94</th>\n",
              "      <td>0.264902</td>\n",
              "      <td>0.125743</td>\n",
              "      <td>0.343154</td>\n",
              "      <td>0.144227</td>\n",
              "      <td>0.536567</td>\n",
              "      <td>0.965749</td>\n",
              "      <td>1.019472</td>\n",
              "      <td>1.011920</td>\n",
              "      <td>0.158383</td>\n",
              "      <td>0.006009</td>\n",
              "      <td>0.258520</td>\n",
              "      <td>-0.458037</td>\n",
              "      <td>0.415796</td>\n",
              "      <td>0.149676</td>\n",
              "      <td>0.736370</td>\n",
              "      <td>0.652335</td>\n",
              "      <td>0.556252</td>\n",
              "      <td>1.089053</td>\n",
              "      <td>-0.673475</td>\n",
              "      <td>-0.103983</td>\n",
              "      <td>0.406050</td>\n",
              "      <td>-0.235671</td>\n",
              "      <td>0.483686</td>\n",
              "      <td>0.253872</td>\n",
              "      <td>0.996451</td>\n",
              "      <td>1.056214</td>\n",
              "      <td>1.190321</td>\n",
              "      <td>1.475363</td>\n",
              "      <td>-0.107996</td>\n",
              "      <td>-0.088988</td>\n",
              "      <td>0</td>\n",
              "    </tr>\n",
              "    <tr>\n",
              "      <th>331</th>\n",
              "      <td>-0.325847</td>\n",
              "      <td>0.014044</td>\n",
              "      <td>-0.306827</td>\n",
              "      <td>-0.400703</td>\n",
              "      <td>-0.040584</td>\n",
              "      <td>0.154625</td>\n",
              "      <td>-0.222591</td>\n",
              "      <td>-0.500897</td>\n",
              "      <td>-0.184806</td>\n",
              "      <td>0.368916</td>\n",
              "      <td>-0.493639</td>\n",
              "      <td>-1.180146</td>\n",
              "      <td>-0.198537</td>\n",
              "      <td>-0.433149</td>\n",
              "      <td>-0.438011</td>\n",
              "      <td>0.395243</td>\n",
              "      <td>0.399087</td>\n",
              "      <td>-0.322008</td>\n",
              "      <td>0.843639</td>\n",
              "      <td>0.293938</td>\n",
              "      <td>-0.382935</td>\n",
              "      <td>-0.606955</td>\n",
              "      <td>-0.239812</td>\n",
              "      <td>-0.432944</td>\n",
              "      <td>-0.156432</td>\n",
              "      <td>0.451882</td>\n",
              "      <td>0.344038</td>\n",
              "      <td>-0.244025</td>\n",
              "      <td>1.124753</td>\n",
              "      <td>0.427488</td>\n",
              "      <td>1</td>\n",
              "    </tr>\n",
              "    <tr>\n",
              "      <th>27</th>\n",
              "      <td>1.273153</td>\n",
              "      <td>0.223480</td>\n",
              "      <td>1.241101</td>\n",
              "      <td>1.248876</td>\n",
              "      <td>-0.139504</td>\n",
              "      <td>0.042812</td>\n",
              "      <td>0.755818</td>\n",
              "      <td>0.732313</td>\n",
              "      <td>-0.418466</td>\n",
              "      <td>-0.823289</td>\n",
              "      <td>1.615944</td>\n",
              "      <td>1.146931</td>\n",
              "      <td>1.369225</td>\n",
              "      <td>1.170555</td>\n",
              "      <td>1.236390</td>\n",
              "      <td>0.097352</td>\n",
              "      <td>0.627208</td>\n",
              "      <td>1.186379</td>\n",
              "      <td>0.289099</td>\n",
              "      <td>0.159658</td>\n",
              "      <td>1.043864</td>\n",
              "      <td>0.257745</td>\n",
              "      <td>0.972174</td>\n",
              "      <td>0.918363</td>\n",
              "      <td>0.062747</td>\n",
              "      <td>-0.270773</td>\n",
              "      <td>0.347396</td>\n",
              "      <td>0.523700</td>\n",
              "      <td>-0.905562</td>\n",
              "      <td>-0.539518</td>\n",
              "      <td>0</td>\n",
              "    </tr>\n",
              "    <tr>\n",
              "      <th>431</th>\n",
              "      <td>-0.490575</td>\n",
              "      <td>-0.374576</td>\n",
              "      <td>-0.432457</td>\n",
              "      <td>-0.532101</td>\n",
              "      <td>0.643316</td>\n",
              "      <td>0.516599</td>\n",
              "      <td>-0.142993</td>\n",
              "      <td>-0.539846</td>\n",
              "      <td>-0.002259</td>\n",
              "      <td>1.165609</td>\n",
              "      <td>-0.824604</td>\n",
              "      <td>0.441152</td>\n",
              "      <td>-0.327740</td>\n",
              "      <td>-0.547998</td>\n",
              "      <td>0.986380</td>\n",
              "      <td>0.417599</td>\n",
              "      <td>0.554262</td>\n",
              "      <td>-0.020461</td>\n",
              "      <td>0.160756</td>\n",
              "      <td>0.835972</td>\n",
              "      <td>-0.701842</td>\n",
              "      <td>-0.450625</td>\n",
              "      <td>-0.525756</td>\n",
              "      <td>-0.641257</td>\n",
              "      <td>0.553709</td>\n",
              "      <td>0.054930</td>\n",
              "      <td>-0.152986</td>\n",
              "      <td>-0.622863</td>\n",
              "      <td>-0.557739</td>\n",
              "      <td>0.534440</td>\n",
              "      <td>1</td>\n",
              "    </tr>\n",
              "    <tr>\n",
              "      <th>439</th>\n",
              "      <td>-0.030472</td>\n",
              "      <td>-0.844644</td>\n",
              "      <td>-0.097993</td>\n",
              "      <td>-0.137624</td>\n",
              "      <td>-1.188483</td>\n",
              "      <td>-0.919734</td>\n",
              "      <td>-0.852851</td>\n",
              "      <td>-0.577763</td>\n",
              "      <td>-0.812768</td>\n",
              "      <td>-0.983478</td>\n",
              "      <td>-0.689258</td>\n",
              "      <td>-1.019577</td>\n",
              "      <td>-0.623768</td>\n",
              "      <td>-0.463952</td>\n",
              "      <td>-0.734689</td>\n",
              "      <td>-0.907654</td>\n",
              "      <td>-0.752025</td>\n",
              "      <td>-0.168071</td>\n",
              "      <td>-1.069402</td>\n",
              "      <td>-0.639587</td>\n",
              "      <td>-0.281464</td>\n",
              "      <td>-1.036863</td>\n",
              "      <td>-0.319638</td>\n",
              "      <td>-0.336962</td>\n",
              "      <td>-1.269864</td>\n",
              "      <td>-0.970527</td>\n",
              "      <td>-1.005506</td>\n",
              "      <td>-0.494046</td>\n",
              "      <td>-1.237207</td>\n",
              "      <td>-0.933525</td>\n",
              "      <td>1</td>\n",
              "    </tr>\n",
              "    <tr>\n",
              "      <th>...</th>\n",
              "      <td>...</td>\n",
              "      <td>...</td>\n",
              "      <td>...</td>\n",
              "      <td>...</td>\n",
              "      <td>...</td>\n",
              "      <td>...</td>\n",
              "      <td>...</td>\n",
              "      <td>...</td>\n",
              "      <td>...</td>\n",
              "      <td>...</td>\n",
              "      <td>...</td>\n",
              "      <td>...</td>\n",
              "      <td>...</td>\n",
              "      <td>...</td>\n",
              "      <td>...</td>\n",
              "      <td>...</td>\n",
              "      <td>...</td>\n",
              "      <td>...</td>\n",
              "      <td>...</td>\n",
              "      <td>...</td>\n",
              "      <td>...</td>\n",
              "      <td>...</td>\n",
              "      <td>...</td>\n",
              "      <td>...</td>\n",
              "      <td>...</td>\n",
              "      <td>...</td>\n",
              "      <td>...</td>\n",
              "      <td>...</td>\n",
              "      <td>...</td>\n",
              "      <td>...</td>\n",
              "      <td>...</td>\n",
              "    </tr>\n",
              "    <tr>\n",
              "      <th>255</th>\n",
              "      <td>-0.047513</td>\n",
              "      <td>-0.521181</td>\n",
              "      <td>-0.022203</td>\n",
              "      <td>-0.149284</td>\n",
              "      <td>0.942210</td>\n",
              "      <td>0.446478</td>\n",
              "      <td>0.114133</td>\n",
              "      <td>0.091333</td>\n",
              "      <td>0.351883</td>\n",
              "      <td>-0.212302</td>\n",
              "      <td>0.071563</td>\n",
              "      <td>-0.738535</td>\n",
              "      <td>-0.150024</td>\n",
              "      <td>-0.101144</td>\n",
              "      <td>-0.230002</td>\n",
              "      <td>0.073319</td>\n",
              "      <td>-0.023333</td>\n",
              "      <td>0.263406</td>\n",
              "      <td>0.009408</td>\n",
              "      <td>-0.416040</td>\n",
              "      <td>0.025018</td>\n",
              "      <td>-0.587414</td>\n",
              "      <td>0.024984</td>\n",
              "      <td>-0.095952</td>\n",
              "      <td>0.825491</td>\n",
              "      <td>0.457607</td>\n",
              "      <td>0.233695</td>\n",
              "      <td>0.347072</td>\n",
              "      <td>0.270565</td>\n",
              "      <td>-0.242489</td>\n",
              "      <td>0</td>\n",
              "    </tr>\n",
              "    <tr>\n",
              "      <th>216</th>\n",
              "      <td>-0.635423</td>\n",
              "      <td>-0.218663</td>\n",
              "      <td>-0.603397</td>\n",
              "      <td>-0.633351</td>\n",
              "      <td>-0.194302</td>\n",
              "      <td>0.209585</td>\n",
              "      <td>-0.281725</td>\n",
              "      <td>-0.451373</td>\n",
              "      <td>0.567289</td>\n",
              "      <td>0.048537</td>\n",
              "      <td>-0.392942</td>\n",
              "      <td>0.628029</td>\n",
              "      <td>-0.385658</td>\n",
              "      <td>-0.415328</td>\n",
              "      <td>0.610365</td>\n",
              "      <td>0.918928</td>\n",
              "      <td>0.914016</td>\n",
              "      <td>0.981995</td>\n",
              "      <td>0.894492</td>\n",
              "      <td>0.370723</td>\n",
              "      <td>-0.625221</td>\n",
              "      <td>0.231690</td>\n",
              "      <td>-0.627326</td>\n",
              "      <td>-0.614185</td>\n",
              "      <td>0.356447</td>\n",
              "      <td>0.320201</td>\n",
              "      <td>0.040354</td>\n",
              "      <td>-0.012276</td>\n",
              "      <td>0.802814</td>\n",
              "      <td>-0.016393</td>\n",
              "      <td>1</td>\n",
              "    </tr>\n",
              "    <tr>\n",
              "      <th>226</th>\n",
              "      <td>-1.047243</td>\n",
              "      <td>-0.891185</td>\n",
              "      <td>-1.044132</td>\n",
              "      <td>-0.925156</td>\n",
              "      <td>0.636199</td>\n",
              "      <td>-0.513983</td>\n",
              "      <td>-1.031470</td>\n",
              "      <td>-0.948165</td>\n",
              "      <td>-0.086230</td>\n",
              "      <td>0.241332</td>\n",
              "      <td>-0.771909</td>\n",
              "      <td>-0.569982</td>\n",
              "      <td>-0.820790</td>\n",
              "      <td>-0.626544</td>\n",
              "      <td>-0.176000</td>\n",
              "      <td>-0.973436</td>\n",
              "      <td>-0.964097</td>\n",
              "      <td>-1.106941</td>\n",
              "      <td>-0.668632</td>\n",
              "      <td>-0.368380</td>\n",
              "      <td>-0.983474</td>\n",
              "      <td>-0.957069</td>\n",
              "      <td>-1.006500</td>\n",
              "      <td>-0.852910</td>\n",
              "      <td>0.075898</td>\n",
              "      <td>-0.884012</td>\n",
              "      <td>-1.179224</td>\n",
              "      <td>-1.065348</td>\n",
              "      <td>-0.462290</td>\n",
              "      <td>-0.069592</td>\n",
              "      <td>1</td>\n",
              "    </tr>\n",
              "    <tr>\n",
              "      <th>142</th>\n",
              "      <td>-0.766069</td>\n",
              "      <td>-0.460677</td>\n",
              "      <td>-0.754153</td>\n",
              "      <td>-0.730619</td>\n",
              "      <td>0.913744</td>\n",
              "      <td>-0.179679</td>\n",
              "      <td>-0.859881</td>\n",
              "      <td>-0.781794</td>\n",
              "      <td>-0.608315</td>\n",
              "      <td>0.400103</td>\n",
              "      <td>-0.436253</td>\n",
              "      <td>1.253978</td>\n",
              "      <td>-0.459913</td>\n",
              "      <td>-0.417088</td>\n",
              "      <td>-0.125665</td>\n",
              "      <td>-0.454278</td>\n",
              "      <td>-0.673542</td>\n",
              "      <td>-0.369211</td>\n",
              "      <td>0.275781</td>\n",
              "      <td>-0.101713</td>\n",
              "      <td>-0.722550</td>\n",
              "      <td>0.176323</td>\n",
              "      <td>-0.732768</td>\n",
              "      <td>-0.663758</td>\n",
              "      <td>0.391516</td>\n",
              "      <td>-0.477519</td>\n",
              "      <td>-0.936038</td>\n",
              "      <td>-0.770256</td>\n",
              "      <td>-0.512441</td>\n",
              "      <td>-0.165462</td>\n",
              "      <td>1</td>\n",
              "    </tr>\n",
              "    <tr>\n",
              "      <th>424</th>\n",
              "      <td>-1.245485</td>\n",
              "      <td>-0.039478</td>\n",
              "      <td>-1.237314</td>\n",
              "      <td>-1.038635</td>\n",
              "      <td>0.792763</td>\n",
              "      <td>-0.398189</td>\n",
              "      <td>-1.002707</td>\n",
              "      <td>-0.754452</td>\n",
              "      <td>2.651977</td>\n",
              "      <td>1.062124</td>\n",
              "      <td>1.051464</td>\n",
              "      <td>0.961868</td>\n",
              "      <td>0.861819</td>\n",
              "      <td>0.070030</td>\n",
              "      <td>2.009755</td>\n",
              "      <td>-0.370444</td>\n",
              "      <td>-0.857862</td>\n",
              "      <td>-0.207002</td>\n",
              "      <td>1.266203</td>\n",
              "      <td>0.162684</td>\n",
              "      <td>-1.047670</td>\n",
              "      <td>-0.408286</td>\n",
              "      <td>-1.056540</td>\n",
              "      <td>-0.878399</td>\n",
              "      <td>0.325762</td>\n",
              "      <td>-0.757420</td>\n",
              "      <td>-1.205802</td>\n",
              "      <td>-1.046314</td>\n",
              "      <td>0.477640</td>\n",
              "      <td>-0.213673</td>\n",
              "      <td>1</td>\n",
              "    </tr>\n",
              "  </tbody>\n",
              "</table>\n",
              "<p>569 rows × 31 columns</p>\n",
              "</div>"
            ],
            "text/plain": [
              "     mean radius  mean texture  ...  worst fractal dimension  label\n",
              "94      0.264902      0.125743  ...                -0.088988      0\n",
              "331    -0.325847      0.014044  ...                 0.427488      1\n",
              "27      1.273153      0.223480  ...                -0.539518      0\n",
              "431    -0.490575     -0.374576  ...                 0.534440      1\n",
              "439    -0.030472     -0.844644  ...                -0.933525      1\n",
              "..           ...           ...  ...                      ...    ...\n",
              "255    -0.047513     -0.521181  ...                -0.242489      0\n",
              "216    -0.635423     -0.218663  ...                -0.016393      1\n",
              "226    -1.047243     -0.891185  ...                -0.069592      1\n",
              "142    -0.766069     -0.460677  ...                -0.165462      1\n",
              "424    -1.245485     -0.039478  ...                -0.213673      1\n",
              "\n",
              "[569 rows x 31 columns]"
            ]
          },
          "metadata": {},
          "execution_count": 18
        }
      ]
    },
    {
      "cell_type": "code",
      "metadata": {
        "id": "AIjN11sxJmpb"
      },
      "source": [
        "#500 Training\n",
        "X_train = feature[:500]\n",
        "y_train = label[:500]\n",
        "\n",
        "#35 Validation\n",
        "X_val = feature[500:535]\n",
        "y_val = label[500:535]\n",
        "\n",
        "#34 Testing\n",
        "X_test = feature[535:]\n",
        "y_test = label[535:]"
      ],
      "execution_count": null,
      "outputs": []
    },
    {
      "cell_type": "code",
      "metadata": {
        "id": "lzvszMiHJtSp"
      },
      "source": [
        "model = Sequential()\n",
        "\n",
        "model.add(Dense(32, activation = 'relu', input_dim = 30))\n",
        "model.add(Dense(64, activation = 'relu'))\n",
        "model.add(Dense(128, activation = 'relu'))\n",
        "model.add(Dense(64, activation = 'relu'))\n",
        "model.add(Dense(32, activation = 'relu'))\n",
        "model.add(Dense(1, activation = 'sigmoid'))\n",
        "\n",
        "model.compile( loss = 'binary_crossentropy' , optimizer = 'adam' , metrics = ['accuracy'])\n"
      ],
      "execution_count": null,
      "outputs": []
    },
    {
      "cell_type": "code",
      "metadata": {
        "colab": {
          "base_uri": "https://localhost:8080/"
        },
        "id": "ieHpAa1EJzvQ",
        "outputId": "34fc18c2-0214-4f71-ceb0-3cba2eae1376"
      },
      "source": [
        "model.fit( X_train , y_train, epochs = 10, batch_size = 5, validation_data = (X_val, y_val))\n"
      ],
      "execution_count": null,
      "outputs": [
        {
          "output_type": "stream",
          "name": "stdout",
          "text": [
            "Epoch 1/10\n",
            "100/100 [==============================] - 1s 3ms/step - loss: 0.2320 - accuracy: 0.9300 - val_loss: 0.0196 - val_accuracy: 1.0000\n",
            "Epoch 2/10\n",
            "100/100 [==============================] - 0s 2ms/step - loss: 0.0634 - accuracy: 0.9780 - val_loss: 0.0102 - val_accuracy: 1.0000\n",
            "Epoch 3/10\n",
            "100/100 [==============================] - 0s 2ms/step - loss: 0.0448 - accuracy: 0.9900 - val_loss: 0.0821 - val_accuracy: 0.9429\n",
            "Epoch 4/10\n",
            "100/100 [==============================] - 0s 1ms/step - loss: 0.0373 - accuracy: 0.9900 - val_loss: 0.0035 - val_accuracy: 1.0000\n",
            "Epoch 5/10\n",
            "100/100 [==============================] - 0s 2ms/step - loss: 0.0363 - accuracy: 0.9900 - val_loss: 0.2209 - val_accuracy: 0.9714\n",
            "Epoch 6/10\n",
            "100/100 [==============================] - 0s 1ms/step - loss: 0.0245 - accuracy: 0.9940 - val_loss: 0.0125 - val_accuracy: 1.0000\n",
            "Epoch 7/10\n",
            "100/100 [==============================] - 0s 1ms/step - loss: 0.0209 - accuracy: 0.9920 - val_loss: 0.0823 - val_accuracy: 0.9714\n",
            "Epoch 8/10\n",
            "100/100 [==============================] - 0s 1ms/step - loss: 0.0144 - accuracy: 0.9960 - val_loss: 0.0457 - val_accuracy: 0.9714\n",
            "Epoch 9/10\n",
            "100/100 [==============================] - 0s 1ms/step - loss: 0.0167 - accuracy: 0.9900 - val_loss: 0.5063 - val_accuracy: 0.9714\n",
            "Epoch 10/10\n",
            "100/100 [==============================] - 0s 2ms/step - loss: 0.0835 - accuracy: 0.9840 - val_loss: 0.0906 - val_accuracy: 0.9714\n"
          ]
        },
        {
          "output_type": "execute_result",
          "data": {
            "text/plain": [
              "<keras.callbacks.History at 0x7f09fac4ce50>"
            ]
          },
          "metadata": {},
          "execution_count": 21
        }
      ]
    },
    {
      "cell_type": "code",
      "metadata": {
        "colab": {
          "base_uri": "https://localhost:8080/"
        },
        "id": "Fti8Eff6J6Xr",
        "outputId": "7cafeec2-23e8-4f63-d0e5-142d2dfbc989"
      },
      "source": [
        "model.evaluate(X_test , y_test)\n"
      ],
      "execution_count": null,
      "outputs": [
        {
          "output_type": "stream",
          "name": "stdout",
          "text": [
            "2/2 [==============================] - 0s 5ms/step - loss: 0.4567 - accuracy: 0.8824\n"
          ]
        },
        {
          "output_type": "execute_result",
          "data": {
            "text/plain": [
              "[0.456670343875885, 0.8823529481887817]"
            ]
          },
          "metadata": {},
          "execution_count": 22
        }
      ]
    },
    {
      "cell_type": "code",
      "metadata": {
        "colab": {
          "base_uri": "https://localhost:8080/"
        },
        "id": "HDzwxP9MKAJi",
        "outputId": "b9cb60c8-9056-4a0a-c23d-ade66e698312"
      },
      "source": [
        "model.evaluate(X_val , y_val)"
      ],
      "execution_count": null,
      "outputs": [
        {
          "output_type": "stream",
          "name": "stdout",
          "text": [
            "2/2 [==============================] - 0s 4ms/step - loss: 0.0906 - accuracy: 0.9714\n"
          ]
        },
        {
          "output_type": "execute_result",
          "data": {
            "text/plain": [
              "[0.0906253233551979, 0.9714285731315613]"
            ]
          },
          "metadata": {},
          "execution_count": 23
        }
      ]
    },
    {
      "cell_type": "code",
      "metadata": {
        "colab": {
          "base_uri": "https://localhost:8080/"
        },
        "id": "f12RN4ySKINY",
        "outputId": "14a93f4a-5f10-4b27-be1b-f78de6461548"
      },
      "source": [
        "for i in range(30):\n",
        "  sample = X_test[i]\n",
        "  sample = np.reshape(sample, (1,30))\n",
        "\n",
        "  if (model.predict(sample)[0][0] > 0.5):\n",
        "    print(\"-Benign\")\n",
        "  else:\n",
        "    print(\"-Malignant\")\n",
        "\n",
        "  if (y_test[i] == 1):\n",
        "    print(\"*Banign\")\n",
        "  else:\n",
        "    print(\"*Melignant\")\n",
        "  print(\"-----------\")\n"
      ],
      "execution_count": null,
      "outputs": [
        {
          "output_type": "stream",
          "name": "stdout",
          "text": [
            "-Benign\n",
            "*Banign\n",
            "-----------\n",
            "-Benign\n",
            "*Banign\n",
            "-----------\n",
            "-Benign\n",
            "*Banign\n",
            "-----------\n",
            "-Malignant\n",
            "*Melignant\n",
            "-----------\n",
            "-Benign\n",
            "*Banign\n",
            "-----------\n",
            "-Benign\n",
            "*Banign\n",
            "-----------\n",
            "-Benign\n",
            "*Melignant\n",
            "-----------\n",
            "-Malignant\n",
            "*Melignant\n",
            "-----------\n",
            "-Benign\n",
            "*Banign\n",
            "-----------\n",
            "-Benign\n",
            "*Banign\n",
            "-----------\n",
            "-Malignant\n",
            "*Melignant\n",
            "-----------\n",
            "-Malignant\n",
            "*Melignant\n",
            "-----------\n",
            "-Benign\n",
            "*Banign\n",
            "-----------\n",
            "-Benign\n",
            "*Banign\n",
            "-----------\n",
            "-Malignant\n",
            "*Melignant\n",
            "-----------\n",
            "-Malignant\n",
            "*Melignant\n",
            "-----------\n",
            "-Benign\n",
            "*Banign\n",
            "-----------\n",
            "-Malignant\n",
            "*Banign\n",
            "-----------\n",
            "-Malignant\n",
            "*Melignant\n",
            "-----------\n",
            "-Malignant\n",
            "*Melignant\n",
            "-----------\n",
            "-Benign\n",
            "*Banign\n",
            "-----------\n",
            "-Benign\n",
            "*Banign\n",
            "-----------\n",
            "-Benign\n",
            "*Banign\n",
            "-----------\n",
            "-Malignant\n",
            "*Melignant\n",
            "-----------\n",
            "-Benign\n",
            "*Banign\n",
            "-----------\n",
            "-Malignant\n",
            "*Melignant\n",
            "-----------\n",
            "-Benign\n",
            "*Banign\n",
            "-----------\n",
            "-Benign\n",
            "*Melignant\n",
            "-----------\n",
            "-Benign\n",
            "*Banign\n",
            "-----------\n",
            "-Benign\n",
            "*Melignant\n",
            "-----------\n"
          ]
        }
      ]
    },
    {
      "cell_type": "code",
      "metadata": {
        "colab": {
          "base_uri": "https://localhost:8080/"
        },
        "id": "-sI8QPlaKSQA",
        "outputId": "76a55400-4e46-4827-c1f4-ef7aa1faabfc"
      },
      "source": [
        "t = 0\n",
        "for i in y_val:\n",
        "  if (i == 1):\n",
        "    t += 1\n",
        "\n",
        "print(t)"
      ],
      "execution_count": null,
      "outputs": [
        {
          "output_type": "stream",
          "name": "stdout",
          "text": [
            "29\n"
          ]
        }
      ]
    },
    {
      "cell_type": "code",
      "metadata": {
        "colab": {
          "base_uri": "https://localhost:8080/"
        },
        "id": "AzfdeSY-KYVI",
        "outputId": "3665e6b0-5f15-4f42-8dd3-6b7860db77b9"
      },
      "source": [
        "t = 0\n",
        "for i in y_test:\n",
        "  if (i == 1):\n",
        "    t += 1\n",
        "\n",
        "print(t)"
      ],
      "execution_count": null,
      "outputs": [
        {
          "output_type": "stream",
          "name": "stdout",
          "text": [
            "21\n"
          ]
        }
      ]
    },
    {
      "cell_type": "code",
      "metadata": {
        "colab": {
          "base_uri": "https://localhost:8080/"
        },
        "id": "C5diyvgsKdjG",
        "outputId": "98020903-77dc-4cde-b14b-b9c62941d793"
      },
      "source": [
        "X_test[0] * -.1"
      ],
      "execution_count": null,
      "outputs": [
        {
          "output_type": "execute_result",
          "data": {
            "text/plain": [
              "array([ 0.11267672, -0.00698938,  0.11219812,  0.0976065 , -0.02803718,\n",
              "        0.0555297 ,  0.10517841,  0.09739587,  0.00752774, -0.00726366,\n",
              "        0.05813429, -0.15841882,  0.06029766,  0.0517856 , -0.19564197,\n",
              "        0.01820959,  0.09191033,  0.07646786, -0.06269083,  0.05737709,\n",
              "        0.1163636 ,  0.04555104,  0.11730024,  0.09374652,  0.02572551,\n",
              "        0.08541133,  0.12576155,  0.14052052,  0.10333666,  0.09157917])"
            ]
          },
          "metadata": {},
          "execution_count": 27
        }
      ]
    },
    {
      "cell_type": "code",
      "metadata": {
        "colab": {
          "base_uri": "https://localhost:8080/"
        },
        "id": "tkV8X-4uKi5J",
        "outputId": "dc56205f-ae1e-40a1-8ef6-9f7e5fa11fe1"
      },
      "source": [
        "348/350"
      ],
      "execution_count": null,
      "outputs": [
        {
          "output_type": "execute_result",
          "data": {
            "text/plain": [
              "0.9942857142857143"
            ]
          },
          "metadata": {},
          "execution_count": 28
        }
      ]
    },
    {
      "cell_type": "code",
      "metadata": {
        "colab": {
          "base_uri": "https://localhost:8080/"
        },
        "id": "x4F9J_QxKo-U",
        "outputId": "6583bf13-c137-48b2-a15a-8af2d966ced2"
      },
      "source": [
        "347/350"
      ],
      "execution_count": null,
      "outputs": [
        {
          "output_type": "execute_result",
          "data": {
            "text/plain": [
              "0.9914285714285714"
            ]
          },
          "metadata": {},
          "execution_count": 29
        }
      ]
    },
    {
      "cell_type": "code",
      "metadata": {
        "colab": {
          "base_uri": "https://localhost:8080/"
        },
        "id": "8sJiIVmsKtjE",
        "outputId": "82648f61-705c-4b3a-9b91-1bc8cbb54461"
      },
      "source": [
        "\n",
        "32/35"
      ],
      "execution_count": null,
      "outputs": [
        {
          "output_type": "execute_result",
          "data": {
            "text/plain": [
              "0.9142857142857143"
            ]
          },
          "metadata": {},
          "execution_count": 30
        }
      ]
    }
  ]
}